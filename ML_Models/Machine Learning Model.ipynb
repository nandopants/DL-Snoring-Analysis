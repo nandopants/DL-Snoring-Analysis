{
 "cells": [
  {
   "cell_type": "code",
   "execution_count": 1,
   "id": "50897ae6",
   "metadata": {},
   "outputs": [],
   "source": [
    "#import module\n",
    "import pandas as pd\n",
    "import numpy as np\n",
    "import matplotlib as mpl\n",
    "import matplotlib.pyplot as plt\n",
    "%matplotlib inline\n",
    "import seaborn as sn\n",
    "import warnings\n",
    "warnings.filterwarnings('ignore')"
   ]
  },
  {
   "cell_type": "markdown",
   "id": "84b897c5",
   "metadata": {},
   "source": [
    "## Load and Describe Data"
   ]
  },
  {
   "cell_type": "markdown",
   "id": "6337c875",
   "metadata": {},
   "source": [
    "Load the converted audio data to MFCC with three different window size: 50 ms, 100 ms, 500 ms. For Machine Learning Model input, Mean and Standard Deviation are calculated from each row"
   ]
  },
  {
   "cell_type": "code",
   "execution_count": 2,
   "id": "e5396063",
   "metadata": {},
   "outputs": [],
   "source": [
    "#Import the mfcc 50 window size mean and std data\n",
    "df_ms_50 =pd.read_csv(\"mfcc/mfcc_50_mean_std.csv\")"
   ]
  },
  {
   "cell_type": "code",
   "execution_count": 3,
   "id": "f05b60b3",
   "metadata": {},
   "outputs": [],
   "source": [
    "#Import the mfcc 100 window size mean and std data\n",
    "df_ms_100 =pd.read_csv(\"mfcc/mfcc_100_mean_std.csv\")"
   ]
  },
  {
   "cell_type": "code",
   "execution_count": 4,
   "id": "1a35820a",
   "metadata": {},
   "outputs": [],
   "source": [
    "#Import the mfcc 500 window size mean and std data\n",
    "df_ms_500 =pd.read_csv(\"mfcc/mfcc_500_mean_std.csv\")"
   ]
  },
  {
   "cell_type": "markdown",
   "id": "d1516af0",
   "metadata": {},
   "source": [
    "### Convert the label S1, S2, S3 to S so the data will have 2 classes ony, S as Snoring and N as Non Snoring"
   ]
  },
  {
   "cell_type": "markdown",
   "id": "92c96d93",
   "metadata": {},
   "source": [
    "We use column with the mean values for choosing the best model with the dataset of 50ms"
   ]
  },
  {
   "cell_type": "markdown",
   "id": "4470a2e3",
   "metadata": {},
   "source": [
    "### 50ms"
   ]
  },
  {
   "cell_type": "code",
   "execution_count": 5,
   "id": "09356e58",
   "metadata": {},
   "outputs": [
    {
     "data": {
      "text/html": [
       "<div>\n",
       "<style scoped>\n",
       "    .dataframe tbody tr th:only-of-type {\n",
       "        vertical-align: middle;\n",
       "    }\n",
       "\n",
       "    .dataframe tbody tr th {\n",
       "        vertical-align: top;\n",
       "    }\n",
       "\n",
       "    .dataframe thead th {\n",
       "        text-align: right;\n",
       "    }\n",
       "</style>\n",
       "<table border=\"1\" class=\"dataframe\">\n",
       "  <thead>\n",
       "    <tr style=\"text-align: right;\">\n",
       "      <th></th>\n",
       "      <th>label</th>\n",
       "      <th>mfcc_1_mean</th>\n",
       "      <th>mfcc_2_mean</th>\n",
       "      <th>mfcc_3_mean</th>\n",
       "      <th>mfcc_4_mean</th>\n",
       "      <th>mfcc_5_mean</th>\n",
       "      <th>mfcc_6_mean</th>\n",
       "      <th>mfcc_7_mean</th>\n",
       "      <th>mfcc_8_mean</th>\n",
       "      <th>mfcc_9_mean</th>\n",
       "      <th>...</th>\n",
       "      <th>mfcc_4_std</th>\n",
       "      <th>mfcc_5_std</th>\n",
       "      <th>mfcc_6_std</th>\n",
       "      <th>mfcc_7_std</th>\n",
       "      <th>mfcc_8_std</th>\n",
       "      <th>mfcc_9_std</th>\n",
       "      <th>mfcc_10_std</th>\n",
       "      <th>mfcc_11_std</th>\n",
       "      <th>mfcc_12_std</th>\n",
       "      <th>mfcc_13_std</th>\n",
       "    </tr>\n",
       "  </thead>\n",
       "  <tbody>\n",
       "    <tr>\n",
       "      <th>0</th>\n",
       "      <td>N</td>\n",
       "      <td>-657.723148</td>\n",
       "      <td>184.714036</td>\n",
       "      <td>-43.705060</td>\n",
       "      <td>34.247470</td>\n",
       "      <td>9.993502</td>\n",
       "      <td>-5.231845</td>\n",
       "      <td>28.230855</td>\n",
       "      <td>-11.279565</td>\n",
       "      <td>2.535230</td>\n",
       "      <td>...</td>\n",
       "      <td>7.535729</td>\n",
       "      <td>7.251323</td>\n",
       "      <td>7.203077</td>\n",
       "      <td>8.026103</td>\n",
       "      <td>7.948256</td>\n",
       "      <td>7.753351</td>\n",
       "      <td>8.878212</td>\n",
       "      <td>6.848919</td>\n",
       "      <td>8.408963</td>\n",
       "      <td>8.074407</td>\n",
       "    </tr>\n",
       "    <tr>\n",
       "      <th>1</th>\n",
       "      <td>S1</td>\n",
       "      <td>-665.588282</td>\n",
       "      <td>197.011815</td>\n",
       "      <td>-52.304025</td>\n",
       "      <td>41.994048</td>\n",
       "      <td>8.168739</td>\n",
       "      <td>-4.828233</td>\n",
       "      <td>26.559969</td>\n",
       "      <td>-10.967839</td>\n",
       "      <td>3.062803</td>\n",
       "      <td>...</td>\n",
       "      <td>8.620096</td>\n",
       "      <td>7.440987</td>\n",
       "      <td>7.123942</td>\n",
       "      <td>6.545499</td>\n",
       "      <td>6.633028</td>\n",
       "      <td>5.638938</td>\n",
       "      <td>6.974657</td>\n",
       "      <td>5.744087</td>\n",
       "      <td>6.816978</td>\n",
       "      <td>7.252636</td>\n",
       "    </tr>\n",
       "    <tr>\n",
       "      <th>2</th>\n",
       "      <td>N</td>\n",
       "      <td>-666.464780</td>\n",
       "      <td>193.211455</td>\n",
       "      <td>-54.046330</td>\n",
       "      <td>34.393394</td>\n",
       "      <td>6.150563</td>\n",
       "      <td>-2.940705</td>\n",
       "      <td>26.545822</td>\n",
       "      <td>-13.316384</td>\n",
       "      <td>-2.022403</td>\n",
       "      <td>...</td>\n",
       "      <td>5.456756</td>\n",
       "      <td>7.434191</td>\n",
       "      <td>7.249657</td>\n",
       "      <td>10.193087</td>\n",
       "      <td>6.016713</td>\n",
       "      <td>5.016665</td>\n",
       "      <td>4.982917</td>\n",
       "      <td>5.292135</td>\n",
       "      <td>4.652823</td>\n",
       "      <td>7.492822</td>\n",
       "    </tr>\n",
       "    <tr>\n",
       "      <th>3</th>\n",
       "      <td>S1</td>\n",
       "      <td>-664.284715</td>\n",
       "      <td>198.502961</td>\n",
       "      <td>-50.262606</td>\n",
       "      <td>41.508415</td>\n",
       "      <td>8.895239</td>\n",
       "      <td>-5.102275</td>\n",
       "      <td>25.099437</td>\n",
       "      <td>-10.744751</td>\n",
       "      <td>1.498850</td>\n",
       "      <td>...</td>\n",
       "      <td>6.690414</td>\n",
       "      <td>6.668731</td>\n",
       "      <td>7.013537</td>\n",
       "      <td>8.457928</td>\n",
       "      <td>7.946687</td>\n",
       "      <td>7.079497</td>\n",
       "      <td>7.785825</td>\n",
       "      <td>8.666941</td>\n",
       "      <td>10.213938</td>\n",
       "      <td>7.036044</td>\n",
       "    </tr>\n",
       "    <tr>\n",
       "      <th>4</th>\n",
       "      <td>N</td>\n",
       "      <td>-665.137580</td>\n",
       "      <td>193.384087</td>\n",
       "      <td>-56.805033</td>\n",
       "      <td>37.033101</td>\n",
       "      <td>11.375366</td>\n",
       "      <td>-3.671450</td>\n",
       "      <td>22.680460</td>\n",
       "      <td>-10.320786</td>\n",
       "      <td>3.807404</td>\n",
       "      <td>...</td>\n",
       "      <td>6.837878</td>\n",
       "      <td>5.905541</td>\n",
       "      <td>7.286071</td>\n",
       "      <td>6.908670</td>\n",
       "      <td>8.042997</td>\n",
       "      <td>6.519112</td>\n",
       "      <td>5.730134</td>\n",
       "      <td>4.824089</td>\n",
       "      <td>4.979343</td>\n",
       "      <td>5.891883</td>\n",
       "    </tr>\n",
       "  </tbody>\n",
       "</table>\n",
       "<p>5 rows × 27 columns</p>\n",
       "</div>"
      ],
      "text/plain": [
       "  label  mfcc_1_mean  mfcc_2_mean  mfcc_3_mean  mfcc_4_mean  mfcc_5_mean  \\\n",
       "0     N  -657.723148   184.714036   -43.705060    34.247470     9.993502   \n",
       "1    S1  -665.588282   197.011815   -52.304025    41.994048     8.168739   \n",
       "2     N  -666.464780   193.211455   -54.046330    34.393394     6.150563   \n",
       "3    S1  -664.284715   198.502961   -50.262606    41.508415     8.895239   \n",
       "4     N  -665.137580   193.384087   -56.805033    37.033101    11.375366   \n",
       "\n",
       "   mfcc_6_mean  mfcc_7_mean  mfcc_8_mean  mfcc_9_mean  ...  mfcc_4_std  \\\n",
       "0    -5.231845    28.230855   -11.279565     2.535230  ...    7.535729   \n",
       "1    -4.828233    26.559969   -10.967839     3.062803  ...    8.620096   \n",
       "2    -2.940705    26.545822   -13.316384    -2.022403  ...    5.456756   \n",
       "3    -5.102275    25.099437   -10.744751     1.498850  ...    6.690414   \n",
       "4    -3.671450    22.680460   -10.320786     3.807404  ...    6.837878   \n",
       "\n",
       "   mfcc_5_std  mfcc_6_std  mfcc_7_std  mfcc_8_std  mfcc_9_std  mfcc_10_std  \\\n",
       "0    7.251323    7.203077    8.026103    7.948256    7.753351     8.878212   \n",
       "1    7.440987    7.123942    6.545499    6.633028    5.638938     6.974657   \n",
       "2    7.434191    7.249657   10.193087    6.016713    5.016665     4.982917   \n",
       "3    6.668731    7.013537    8.457928    7.946687    7.079497     7.785825   \n",
       "4    5.905541    7.286071    6.908670    8.042997    6.519112     5.730134   \n",
       "\n",
       "   mfcc_11_std  mfcc_12_std  mfcc_13_std  \n",
       "0     6.848919     8.408963     8.074407  \n",
       "1     5.744087     6.816978     7.252636  \n",
       "2     5.292135     4.652823     7.492822  \n",
       "3     8.666941    10.213938     7.036044  \n",
       "4     4.824089     4.979343     5.891883  \n",
       "\n",
       "[5 rows x 27 columns]"
      ]
     },
     "execution_count": 5,
     "metadata": {},
     "output_type": "execute_result"
    }
   ],
   "source": [
    "df_ms_50.head()"
   ]
  },
  {
   "cell_type": "code",
   "execution_count": 6,
   "id": "24417009",
   "metadata": {},
   "outputs": [],
   "source": [
    "# Create a copy of the original DataFrame\n",
    "df_ms_50_2 = df_ms_50.copy()"
   ]
  },
  {
   "cell_type": "code",
   "execution_count": 7,
   "id": "ba171714",
   "metadata": {
    "scrolled": true
   },
   "outputs": [],
   "source": [
    "# Replace 'S1', 'S2', 'S3' with 'S' in the copied DataFrame\n",
    "df_ms_50_2['label'].replace(['S1', 'S2', 'S3'], 'S', inplace=True)"
   ]
  },
  {
   "cell_type": "code",
   "execution_count": 8,
   "id": "b783efcc",
   "metadata": {
    "scrolled": true
   },
   "outputs": [
    {
     "data": {
      "text/plain": [
       "array(['N', 'S'], dtype=object)"
      ]
     },
     "execution_count": 8,
     "metadata": {},
     "output_type": "execute_result"
    }
   ],
   "source": [
    "df_ms_50_2['label'].unique()"
   ]
  },
  {
   "cell_type": "code",
   "execution_count": 9,
   "id": "0ac1125d",
   "metadata": {},
   "outputs": [],
   "source": [
    "#mfcc Mean columns\n",
    "x_mean_50 = df_ms_50_2.iloc[:, 1:14]"
   ]
  },
  {
   "cell_type": "code",
   "execution_count": 10,
   "id": "e97dbe26",
   "metadata": {},
   "outputs": [],
   "source": [
    "#variable for the label\n",
    "y_label_50 = df_ms_50_2.loc[:,'label']\n",
    "# Convert 'N' to 0 and 'S' to 1\n",
    "y_label_50 = y_label_50.map({'N': 0, 'S': 1})"
   ]
  },
  {
   "cell_type": "markdown",
   "id": "696dc150",
   "metadata": {},
   "source": [
    "## Machine Learning Model"
   ]
  },
  {
   "cell_type": "markdown",
   "id": "8a54e24a",
   "metadata": {},
   "source": [
    "There are three models that we will perform: Logistic Regression, Linear SVM, and XGBoost\n",
    "We try the 50ms dataset as the input for those three models, then choosing the best model based on its performance report.\n",
    "The next step is, we will try the different dataset as the input for the chosen model."
   ]
  },
  {
   "cell_type": "code",
   "execution_count": 11,
   "id": "b90a41e7",
   "metadata": {},
   "outputs": [],
   "source": [
    "#import module for scaling the data, splitting the data into train and test data\n",
    "from sklearn.preprocessing import StandardScaler\n",
    "from sklearn.model_selection import train_test_split"
   ]
  },
  {
   "cell_type": "code",
   "execution_count": 12,
   "id": "6c59752f",
   "metadata": {},
   "outputs": [],
   "source": [
    "#splitting the data into train and test data\n",
    "X_mean_train_50, X_mean_test_50, y_train_50, y_test_50 = train_test_split(x_mean_50, y_label_50, test_size=0.2, random_state=123)"
   ]
  },
  {
   "cell_type": "code",
   "execution_count": 13,
   "id": "2f9df7b8",
   "metadata": {},
   "outputs": [],
   "source": [
    "#defining a variable for scaler\n",
    "scaler = StandardScaler() \n",
    "\n",
    "#scalling the value for all features, for the first model we take the mean only as the input\n",
    "X_mean_train_50_scaled = scaler.fit_transform(X_mean_train_50)\n",
    "X_mean_test_50_scaled = scaler.transform(X_mean_test_50)"
   ]
  },
  {
   "cell_type": "markdown",
   "id": "e835f7d6",
   "metadata": {},
   "source": [
    "### Logistic Regression"
   ]
  },
  {
   "cell_type": "code",
   "execution_count": 14,
   "id": "28ccb802",
   "metadata": {},
   "outputs": [],
   "source": [
    "#import the Logistic Regression model\n",
    "from sklearn.linear_model import LogisticRegression"
   ]
  },
  {
   "cell_type": "code",
   "execution_count": 15,
   "id": "66644cbe",
   "metadata": {},
   "outputs": [
    {
     "data": {
      "text/html": [
       "<style>#sk-container-id-1 {color: black;background-color: white;}#sk-container-id-1 pre{padding: 0;}#sk-container-id-1 div.sk-toggleable {background-color: white;}#sk-container-id-1 label.sk-toggleable__label {cursor: pointer;display: block;width: 100%;margin-bottom: 0;padding: 0.3em;box-sizing: border-box;text-align: center;}#sk-container-id-1 label.sk-toggleable__label-arrow:before {content: \"▸\";float: left;margin-right: 0.25em;color: #696969;}#sk-container-id-1 label.sk-toggleable__label-arrow:hover:before {color: black;}#sk-container-id-1 div.sk-estimator:hover label.sk-toggleable__label-arrow:before {color: black;}#sk-container-id-1 div.sk-toggleable__content {max-height: 0;max-width: 0;overflow: hidden;text-align: left;background-color: #f0f8ff;}#sk-container-id-1 div.sk-toggleable__content pre {margin: 0.2em;color: black;border-radius: 0.25em;background-color: #f0f8ff;}#sk-container-id-1 input.sk-toggleable__control:checked~div.sk-toggleable__content {max-height: 200px;max-width: 100%;overflow: auto;}#sk-container-id-1 input.sk-toggleable__control:checked~label.sk-toggleable__label-arrow:before {content: \"▾\";}#sk-container-id-1 div.sk-estimator input.sk-toggleable__control:checked~label.sk-toggleable__label {background-color: #d4ebff;}#sk-container-id-1 div.sk-label input.sk-toggleable__control:checked~label.sk-toggleable__label {background-color: #d4ebff;}#sk-container-id-1 input.sk-hidden--visually {border: 0;clip: rect(1px 1px 1px 1px);clip: rect(1px, 1px, 1px, 1px);height: 1px;margin: -1px;overflow: hidden;padding: 0;position: absolute;width: 1px;}#sk-container-id-1 div.sk-estimator {font-family: monospace;background-color: #f0f8ff;border: 1px dotted black;border-radius: 0.25em;box-sizing: border-box;margin-bottom: 0.5em;}#sk-container-id-1 div.sk-estimator:hover {background-color: #d4ebff;}#sk-container-id-1 div.sk-parallel-item::after {content: \"\";width: 100%;border-bottom: 1px solid gray;flex-grow: 1;}#sk-container-id-1 div.sk-label:hover label.sk-toggleable__label {background-color: #d4ebff;}#sk-container-id-1 div.sk-serial::before {content: \"\";position: absolute;border-left: 1px solid gray;box-sizing: border-box;top: 0;bottom: 0;left: 50%;z-index: 0;}#sk-container-id-1 div.sk-serial {display: flex;flex-direction: column;align-items: center;background-color: white;padding-right: 0.2em;padding-left: 0.2em;position: relative;}#sk-container-id-1 div.sk-item {position: relative;z-index: 1;}#sk-container-id-1 div.sk-parallel {display: flex;align-items: stretch;justify-content: center;background-color: white;position: relative;}#sk-container-id-1 div.sk-item::before, #sk-container-id-1 div.sk-parallel-item::before {content: \"\";position: absolute;border-left: 1px solid gray;box-sizing: border-box;top: 0;bottom: 0;left: 50%;z-index: -1;}#sk-container-id-1 div.sk-parallel-item {display: flex;flex-direction: column;z-index: 1;position: relative;background-color: white;}#sk-container-id-1 div.sk-parallel-item:first-child::after {align-self: flex-end;width: 50%;}#sk-container-id-1 div.sk-parallel-item:last-child::after {align-self: flex-start;width: 50%;}#sk-container-id-1 div.sk-parallel-item:only-child::after {width: 0;}#sk-container-id-1 div.sk-dashed-wrapped {border: 1px dashed gray;margin: 0 0.4em 0.5em 0.4em;box-sizing: border-box;padding-bottom: 0.4em;background-color: white;}#sk-container-id-1 div.sk-label label {font-family: monospace;font-weight: bold;display: inline-block;line-height: 1.2em;}#sk-container-id-1 div.sk-label-container {text-align: center;}#sk-container-id-1 div.sk-container {/* jupyter's `normalize.less` sets `[hidden] { display: none; }` but bootstrap.min.css set `[hidden] { display: none !important; }` so we also need the `!important` here to be able to override the default hidden behavior on the sphinx rendered scikit-learn.org. See: https://github.com/scikit-learn/scikit-learn/issues/21755 */display: inline-block !important;position: relative;}#sk-container-id-1 div.sk-text-repr-fallback {display: none;}</style><div id=\"sk-container-id-1\" class=\"sk-top-container\"><div class=\"sk-text-repr-fallback\"><pre>LogisticRegression(random_state=42)</pre><b>In a Jupyter environment, please rerun this cell to show the HTML representation or trust the notebook. <br />On GitHub, the HTML representation is unable to render, please try loading this page with nbviewer.org.</b></div><div class=\"sk-container\" hidden><div class=\"sk-item\"><div class=\"sk-estimator sk-toggleable\"><input class=\"sk-toggleable__control sk-hidden--visually\" id=\"sk-estimator-id-1\" type=\"checkbox\" checked><label for=\"sk-estimator-id-1\" class=\"sk-toggleable__label sk-toggleable__label-arrow\">LogisticRegression</label><div class=\"sk-toggleable__content\"><pre>LogisticRegression(random_state=42)</pre></div></div></div></div></div>"
      ],
      "text/plain": [
       "LogisticRegression(random_state=42)"
      ]
     },
     "execution_count": 15,
     "metadata": {},
     "output_type": "execute_result"
    }
   ],
   "source": [
    "#Perform Logistic Regression on the MFCC mean data\n",
    "model_lr1=LogisticRegression(solver=\"lbfgs\", random_state=42)\n",
    "model_lr1.fit(X_mean_train_50_scaled, y_train_50)"
   ]
  },
  {
   "cell_type": "code",
   "execution_count": 16,
   "id": "e0fc122b",
   "metadata": {},
   "outputs": [],
   "source": [
    "# Predict on the test set\n",
    "y_pred_lr1 = model_lr1.predict(X_mean_test_50_scaled)"
   ]
  },
  {
   "cell_type": "code",
   "execution_count": 17,
   "id": "f56f4d4e",
   "metadata": {},
   "outputs": [
    {
     "name": "stdout",
     "output_type": "stream",
     "text": [
      "              precision    recall  f1-score   support\n",
      "\n",
      "           0       0.83      0.82      0.82      3675\n",
      "           1       0.83      0.85      0.84      4004\n",
      "\n",
      "    accuracy                           0.83      7679\n",
      "   macro avg       0.83      0.83      0.83      7679\n",
      "weighted avg       0.83      0.83      0.83      7679\n",
      "\n"
     ]
    }
   ],
   "source": [
    "from sklearn.metrics import classification_report\n",
    "# Evaluate the performance\n",
    "print(classification_report(y_test_50, y_pred_lr1))"
   ]
  },
  {
   "cell_type": "markdown",
   "id": "0ccfb5fe",
   "metadata": {},
   "source": [
    "Check the feature importance coefficient from the model, then drop the columns that has small coefficient. After that, we try to perform the logistic regression again to see if it will increase the performance"
   ]
  },
  {
   "cell_type": "code",
   "execution_count": 18,
   "id": "4a45c8b4",
   "metadata": {},
   "outputs": [
    {
     "data": {
      "text/plain": [
       "array([[ 2.13385156,  0.17115353,  0.69702849, -0.01860308,  1.41273189,\n",
       "        -1.47321624,  0.46033638, -2.00230837,  1.0632716 , -1.0427121 ,\n",
       "         1.63501286, -0.68971566,  0.06441648]])"
      ]
     },
     "execution_count": 18,
     "metadata": {},
     "output_type": "execute_result"
    }
   ],
   "source": [
    "# Get feature coefficients\n",
    "feature_importance = model_lr1.coef_\n",
    "feature_importance"
   ]
  },
  {
   "cell_type": "code",
   "execution_count": 19,
   "id": "5c6e476a",
   "metadata": {},
   "outputs": [],
   "source": [
    "#drop the columns that have smallest coefficient\n",
    "columns_to_drop = ['mfcc_2_mean', 'mfcc_9_mean']\n",
    "x_mean_50_d = x_mean_50.drop(columns=columns_to_drop, axis=1)"
   ]
  },
  {
   "cell_type": "code",
   "execution_count": 20,
   "id": "467335e9",
   "metadata": {},
   "outputs": [],
   "source": [
    "#splitting the data into train and test data\n",
    "X_mean_50_d_train, X_mean_50_d_test, y_train_50, y_test_50 = train_test_split(x_mean_50_d, y_label_50, test_size=0.2, random_state=123)"
   ]
  },
  {
   "cell_type": "code",
   "execution_count": 21,
   "id": "77424df7",
   "metadata": {},
   "outputs": [],
   "source": [
    "#scalling the value for all features for the new data\n",
    "X_mean_50_d_train_scaled = scaler.fit_transform(X_mean_50_d_train)\n",
    "X_mean_50_d_test_scaled = scaler.transform(X_mean_50_d_test)"
   ]
  },
  {
   "cell_type": "code",
   "execution_count": 22,
   "id": "de44ba6d",
   "metadata": {
    "scrolled": true
   },
   "outputs": [
    {
     "name": "stdout",
     "output_type": "stream",
     "text": [
      "              precision    recall  f1-score   support\n",
      "\n",
      "           0       0.81      0.83      0.82      3675\n",
      "           1       0.84      0.82      0.83      4004\n",
      "\n",
      "    accuracy                           0.82      7679\n",
      "   macro avg       0.82      0.82      0.82      7679\n",
      "weighted avg       0.82      0.82      0.82      7679\n",
      "\n"
     ]
    }
   ],
   "source": [
    "#Perform Logistic Regression on the MFCC mean data\n",
    "model_lr2=LogisticRegression(solver=\"lbfgs\", random_state=42)\n",
    "model_lr2.fit(X_mean_50_d_train_scaled, y_train_50)\n",
    "\n",
    "# Predict on the test set\n",
    "y_pred_lr2 = model_lr2.predict(X_mean_50_d_test_scaled)\n",
    "\n",
    "# Evaluate the performance\n",
    "print(classification_report(y_test_50, y_pred_lr2))"
   ]
  },
  {
   "cell_type": "markdown",
   "id": "ced1e143",
   "metadata": {},
   "source": [
    "There is 0.01 drop in accuracy after removing the 2 features with lowest coefficient, so for the next models we include all of the features "
   ]
  },
  {
   "cell_type": "markdown",
   "id": "47214785",
   "metadata": {},
   "source": [
    "### Linear SVM"
   ]
  },
  {
   "cell_type": "code",
   "execution_count": 23,
   "id": "506f5570",
   "metadata": {},
   "outputs": [],
   "source": [
    "from sklearn.svm import LinearSVC"
   ]
  },
  {
   "cell_type": "code",
   "execution_count": 24,
   "id": "970f8fd7",
   "metadata": {},
   "outputs": [
    {
     "name": "stdout",
     "output_type": "stream",
     "text": [
      "              precision    recall  f1-score   support\n",
      "\n",
      "           0       0.82      0.78      0.80      3675\n",
      "           1       0.81      0.85      0.83      4004\n",
      "\n",
      "    accuracy                           0.82      7679\n",
      "   macro avg       0.82      0.81      0.81      7679\n",
      "weighted avg       0.82      0.82      0.82      7679\n",
      "\n"
     ]
    }
   ],
   "source": [
    "# Create a LinearSVC classifier\n",
    "svm_model = LinearSVC()\n",
    "\n",
    "# Fit the classifier to the training data\n",
    "svm_model.fit(X_mean_train_50_scaled, y_train_50)  \n",
    "\n",
    "# Make predictions on the test data\n",
    "y_pred_svm = svm_model.predict(X_mean_test_50_scaled)\n",
    "\n",
    "# Evaluate the model's performance\n",
    "print(classification_report(y_test_50, y_pred_svm))"
   ]
  },
  {
   "cell_type": "markdown",
   "id": "e99fa453",
   "metadata": {},
   "source": [
    "### XGBoost"
   ]
  },
  {
   "cell_type": "code",
   "execution_count": 25,
   "id": "4d508541",
   "metadata": {},
   "outputs": [
    {
     "name": "stdout",
     "output_type": "stream",
     "text": [
      "              precision    recall  f1-score   support\n",
      "\n",
      "           0       0.95      0.93      0.94      3675\n",
      "           1       0.93      0.95      0.94      4004\n",
      "\n",
      "    accuracy                           0.94      7679\n",
      "   macro avg       0.94      0.94      0.94      7679\n",
      "weighted avg       0.94      0.94      0.94      7679\n",
      "\n"
     ]
    }
   ],
   "source": [
    "import xgboost as xgb\n",
    "from xgboost import XGBClassifier\n",
    "# Create an XGBoost classifier with default hyperparameters\n",
    "xgb_model = XGBClassifier()\n",
    "\n",
    "# Fit the model to your training data\n",
    "xgb_model.fit(X_mean_train_50_scaled, y_train_50)\n",
    "\n",
    "# Make predictions on your test data\n",
    "y_pred_xgb = xgb_model.predict(X_mean_test_50_scaled)\n",
    "\n",
    "# Evaluate the model's performance\n",
    "print(classification_report(y_test_50, y_pred_xgb))"
   ]
  },
  {
   "cell_type": "markdown",
   "id": "53fc56f2",
   "metadata": {},
   "source": [
    "The models' performance reports show that XGBoost perform best compared to others for this binary classification. Next, we will try different input with 4 classes and put the standard deviation as well"
   ]
  },
  {
   "cell_type": "markdown",
   "id": "77edf16f",
   "metadata": {},
   "source": [
    "### Mean and standard Deviation Input"
   ]
  },
  {
   "cell_type": "markdown",
   "id": "b4d2c58e",
   "metadata": {},
   "source": [
    "### 2 Classes"
   ]
  },
  {
   "cell_type": "code",
   "execution_count": 26,
   "id": "a7975893",
   "metadata": {},
   "outputs": [],
   "source": [
    "#x input for the model, all columns\n",
    "x_ms_50 = df_ms_50_2.iloc[:,1:]\n",
    "\n",
    "#splitting the data into train and test data\n",
    "X_ms_2_50_train, X_ms_2_50_test, y_2_50_train, y_2_50_test = train_test_split(x_ms_50, y_label_50, test_size=0.2, random_state=123)"
   ]
  },
  {
   "cell_type": "code",
   "execution_count": 27,
   "id": "5c9075a7",
   "metadata": {},
   "outputs": [],
   "source": [
    "#defining a variable for scaler\n",
    "scaler = StandardScaler() \n",
    "\n",
    "#scalling the value for all features, for the first model we take the mean only as the input\n",
    "x_ms_2_50_train_scaled = scaler.fit_transform(X_ms_2_50_train)\n",
    "x_ms_2_50_test_scaled = scaler.transform(X_ms_2_50_test)"
   ]
  },
  {
   "cell_type": "code",
   "execution_count": 28,
   "id": "e94fc047",
   "metadata": {},
   "outputs": [
    {
     "name": "stdout",
     "output_type": "stream",
     "text": [
      "              precision    recall  f1-score   support\n",
      "\n",
      "           0       0.96      0.95      0.95      3675\n",
      "           1       0.95      0.96      0.96      4004\n",
      "\n",
      "    accuracy                           0.96      7679\n",
      "   macro avg       0.96      0.95      0.95      7679\n",
      "weighted avg       0.96      0.96      0.96      7679\n",
      "\n"
     ]
    }
   ],
   "source": [
    "# Create an XGBoost classifier with default hyperparameters\n",
    "xgb_model_ms_2_50 = XGBClassifier()\n",
    "\n",
    "# Fit the model to your training data\n",
    "xgb_model_ms_2_50.fit(x_ms_2_50_train_scaled, y_2_50_train)\n",
    "\n",
    "# Make predictions on your test data\n",
    "y_pred_xgb_ms_2_50 = xgb_model_ms_2_50.predict(x_ms_2_50_test_scaled)\n",
    "\n",
    "# Evaluate the model's performance\n",
    "print(classification_report(y_2_50_test, y_pred_xgb_ms_2_50))"
   ]
  },
  {
   "cell_type": "markdown",
   "id": "acb045bf",
   "metadata": {},
   "source": [
    "### 4 Classes input"
   ]
  },
  {
   "cell_type": "code",
   "execution_count": 29,
   "id": "0489dca3",
   "metadata": {},
   "outputs": [],
   "source": [
    "# y input for the model\n",
    "y_4_50 = df_ms_50['label'].copy()\n",
    "\n",
    "# Define a mapping from categories to numerical values\n",
    "label_mapping = {'N': 0, 'S1': 1, 'S2': 2, 'S3': 3, }\n",
    "\n",
    "# Use the map function to convert the 'label' column\n",
    "y_4_50 = y_4_50.map(label_mapping)"
   ]
  },
  {
   "cell_type": "code",
   "execution_count": 30,
   "id": "69872823",
   "metadata": {},
   "outputs": [
    {
     "data": {
      "text/plain": [
       "array([0, 1, 2, 3], dtype=int64)"
      ]
     },
     "execution_count": 30,
     "metadata": {},
     "output_type": "execute_result"
    }
   ],
   "source": [
    "y_4_50.unique()"
   ]
  },
  {
   "cell_type": "code",
   "execution_count": 31,
   "id": "09b377af",
   "metadata": {},
   "outputs": [],
   "source": [
    "#splitting the data into train and test data\n",
    "X_ms_4_50_train, X_ms_4_50_test, y_4_50_train, y_4_50_test = train_test_split(x_ms_50, y_4_50, test_size=0.2, random_state=123)"
   ]
  },
  {
   "cell_type": "code",
   "execution_count": 32,
   "id": "87a846de",
   "metadata": {},
   "outputs": [],
   "source": [
    "#defining a variable for scaler\n",
    "scaler = StandardScaler() \n",
    "\n",
    "#scalling the value for all features, for the first model we take the mean only as the input\n",
    "x_ms_4_50_train_scaled = scaler.fit_transform(X_ms_4_50_train)\n",
    "x_ms_4_50_test_scaled = scaler.transform(X_ms_4_50_test)"
   ]
  },
  {
   "cell_type": "code",
   "execution_count": 33,
   "id": "f5254652",
   "metadata": {
    "scrolled": true
   },
   "outputs": [
    {
     "name": "stdout",
     "output_type": "stream",
     "text": [
      "              precision    recall  f1-score   support\n",
      "\n",
      "           0       0.97      0.95      0.96      3675\n",
      "           1       0.94      0.96      0.95      3814\n",
      "           2       0.79      0.73      0.76       173\n",
      "           3       0.77      0.59      0.67        17\n",
      "\n",
      "    accuracy                           0.95      7679\n",
      "   macro avg       0.87      0.81      0.83      7679\n",
      "weighted avg       0.95      0.95      0.95      7679\n",
      "\n"
     ]
    }
   ],
   "source": [
    "# Create an XGBoost classifier with default hyperparameters\n",
    "xgb_model_ms_4_50 = XGBClassifier()\n",
    "\n",
    "# Fit the model to your training data\n",
    "xgb_model_ms_4_50.fit(x_ms_4_50_train_scaled, y_4_50_train)\n",
    "\n",
    "# Make predictions on your test data\n",
    "y_pred_xgb_ms_4_50 = xgb_model_ms_4_50.predict(x_ms_4_50_test_scaled)\n",
    "\n",
    "# Evaluate the model's performance\n",
    "print(classification_report(y_4_50_test, y_pred_xgb_ms_4_50))"
   ]
  },
  {
   "cell_type": "markdown",
   "id": "cfdd236b",
   "metadata": {},
   "source": [
    "The trial of using mean + standard deviation as the input resulting in increasing accuracy for 2%. In this case, we will try for other dataset: 100ms and 500ms with mean and standard deviation input to  XGBoost Model."
   ]
  },
  {
   "cell_type": "markdown",
   "id": "eb5ae202",
   "metadata": {},
   "source": [
    "### 100ms"
   ]
  },
  {
   "cell_type": "markdown",
   "id": "c46201d1",
   "metadata": {},
   "source": [
    "### 2 Classes"
   ]
  },
  {
   "cell_type": "code",
   "execution_count": 34,
   "id": "6845c42e",
   "metadata": {},
   "outputs": [],
   "source": [
    "# Create a copy of the original DataFrame\n",
    "df_ms_100_2 = df_ms_100.copy()"
   ]
  },
  {
   "cell_type": "code",
   "execution_count": 35,
   "id": "a190908e",
   "metadata": {
    "scrolled": true
   },
   "outputs": [],
   "source": [
    "# Replace 'S1', 'S2', 'S3' with 'S' in the copied DataFrame\n",
    "df_ms_100_2['label'].replace(['S1', 'S2', 'S3'], 'S', inplace=True)"
   ]
  },
  {
   "cell_type": "code",
   "execution_count": 36,
   "id": "8d66ddc7",
   "metadata": {
    "scrolled": false
   },
   "outputs": [
    {
     "data": {
      "text/plain": [
       "array(['N', 'S'], dtype=object)"
      ]
     },
     "execution_count": 36,
     "metadata": {},
     "output_type": "execute_result"
    }
   ],
   "source": [
    "df_ms_100_2['label'].unique()"
   ]
  },
  {
   "cell_type": "code",
   "execution_count": 37,
   "id": "bb498a4f",
   "metadata": {},
   "outputs": [],
   "source": [
    "#mfcc Mean and Std columns\n",
    "x_ms_100 = df_ms_100_2.iloc[:,1:]"
   ]
  },
  {
   "cell_type": "code",
   "execution_count": 38,
   "id": "34bd098e",
   "metadata": {},
   "outputs": [],
   "source": [
    "#variable for the label\n",
    "y_2_100 = df_ms_100_2.loc[:,'label']\n",
    "\n",
    "# Convert 'N' to 0 and 'S' to 1\n",
    "y_2_100 = y_2_100.map({'N': 0, 'S': 1})"
   ]
  },
  {
   "cell_type": "code",
   "execution_count": 39,
   "id": "b98de15d",
   "metadata": {},
   "outputs": [],
   "source": [
    "#splitting the data into train and test data\n",
    "X_ms_2_100_train, X_ms_2_100_test, y_2_100_train, y_2_100_test = train_test_split(x_ms_100, y_2_100, test_size=0.2, random_state=123)"
   ]
  },
  {
   "cell_type": "code",
   "execution_count": 40,
   "id": "603b8de9",
   "metadata": {},
   "outputs": [],
   "source": [
    "#defining a variable for scaler\n",
    "scaler = StandardScaler() \n",
    "\n",
    "#scalling the value for all features, for the first model we take the mean only as the input\n",
    "x_ms_2_100_train_scaled = scaler.fit_transform(X_ms_2_100_train)\n",
    "x_ms_2_100_test_scaled = scaler.transform(X_ms_2_100_test)"
   ]
  },
  {
   "cell_type": "code",
   "execution_count": 41,
   "id": "8a98a007",
   "metadata": {},
   "outputs": [
    {
     "name": "stdout",
     "output_type": "stream",
     "text": [
      "              precision    recall  f1-score   support\n",
      "\n",
      "           0       0.96      0.94      0.95      3675\n",
      "           1       0.95      0.97      0.96      4004\n",
      "\n",
      "    accuracy                           0.96      7679\n",
      "   macro avg       0.96      0.95      0.96      7679\n",
      "weighted avg       0.96      0.96      0.96      7679\n",
      "\n"
     ]
    }
   ],
   "source": [
    "# Create an XGBoost classifier with default hyperparameters\n",
    "xgb_model_ms_2_100 = XGBClassifier()\n",
    "\n",
    "# Fit the model to your training data\n",
    "xgb_model_ms_2_100.fit(x_ms_2_100_train_scaled, y_2_100_train)\n",
    "\n",
    "# Make predictions on your test data\n",
    "y_pred_xgb_ms_2_100 = xgb_model_ms_2_100.predict(x_ms_2_100_test_scaled)\n",
    "\n",
    "# Evaluate the model's performance\n",
    "print(classification_report(y_2_100_test, y_pred_xgb_ms_2_100))"
   ]
  },
  {
   "cell_type": "markdown",
   "id": "ce8bbf58",
   "metadata": {},
   "source": [
    "### 4 Classes"
   ]
  },
  {
   "cell_type": "code",
   "execution_count": 42,
   "id": "27a8affe",
   "metadata": {},
   "outputs": [],
   "source": [
    "# y input for the model\n",
    "y_4_100 = df_ms_100['label'].copy()\n",
    "\n",
    "# Define a mapping from categories to numerical values\n",
    "label_mapping = {'N': 0, 'S1': 1, 'S2': 2, 'S3': 3, }\n",
    "\n",
    "# Use the map function to convert the 'label' column\n",
    "y_4_100 = y_4_100.map(label_mapping)"
   ]
  },
  {
   "cell_type": "code",
   "execution_count": 43,
   "id": "23b3552a",
   "metadata": {},
   "outputs": [
    {
     "data": {
      "text/plain": [
       "array([0, 1, 2, 3], dtype=int64)"
      ]
     },
     "execution_count": 43,
     "metadata": {},
     "output_type": "execute_result"
    }
   ],
   "source": [
    "y_4_100.unique()"
   ]
  },
  {
   "cell_type": "code",
   "execution_count": 44,
   "id": "15cb00a9",
   "metadata": {},
   "outputs": [],
   "source": [
    "#splitting the data into train and test data\n",
    "X_ms_4_100_train, X_ms_4_100_test, y_4_100_train, y_4_100_test = train_test_split(x_ms_100, y_4_100, test_size=0.2, random_state=123)"
   ]
  },
  {
   "cell_type": "code",
   "execution_count": 45,
   "id": "56cbd753",
   "metadata": {},
   "outputs": [],
   "source": [
    "#defining a variable for scaler\n",
    "scaler = StandardScaler() \n",
    "\n",
    "#scalling the value for all features, for the first model we take the mean only as the input\n",
    "x_ms_4_100_train_scaled = scaler.fit_transform(X_ms_4_100_train)\n",
    "x_ms_4_100_test_scaled = scaler.transform(X_ms_4_100_test)"
   ]
  },
  {
   "cell_type": "code",
   "execution_count": 46,
   "id": "384ce103",
   "metadata": {
    "scrolled": true
   },
   "outputs": [
    {
     "name": "stdout",
     "output_type": "stream",
     "text": [
      "              precision    recall  f1-score   support\n",
      "\n",
      "           0       0.97      0.94      0.95      3675\n",
      "           1       0.94      0.96      0.95      3814\n",
      "           2       0.75      0.72      0.73       173\n",
      "           3       0.73      0.47      0.57        17\n",
      "\n",
      "    accuracy                           0.95      7679\n",
      "   macro avg       0.85      0.77      0.80      7679\n",
      "weighted avg       0.95      0.95      0.95      7679\n",
      "\n"
     ]
    }
   ],
   "source": [
    "# Create an XGBoost classifier with default hyperparameters\n",
    "xgb_model_ms_4_100 = XGBClassifier()\n",
    "\n",
    "# Fit the model to your training data\n",
    "xgb_model_ms_4_100.fit(x_ms_4_100_train_scaled, y_4_100_train)\n",
    "\n",
    "# Make predictions on your test data\n",
    "y_pred_xgb_ms_4_100 = xgb_model_ms_4_100.predict(x_ms_4_100_test_scaled)\n",
    "\n",
    "# Evaluate the model's performance\n",
    "print(classification_report(y_4_100_test, y_pred_xgb_ms_4_100))"
   ]
  },
  {
   "cell_type": "markdown",
   "id": "d94ca277",
   "metadata": {},
   "source": [
    "### 500ms"
   ]
  },
  {
   "cell_type": "markdown",
   "id": "669e1b53",
   "metadata": {},
   "source": [
    "### 2 Classes"
   ]
  },
  {
   "cell_type": "code",
   "execution_count": 47,
   "id": "58934179",
   "metadata": {},
   "outputs": [],
   "source": [
    "# Create a copy of the original DataFrame\n",
    "df_ms_500_2 = df_ms_500.copy()"
   ]
  },
  {
   "cell_type": "code",
   "execution_count": 48,
   "id": "4421db08",
   "metadata": {
    "scrolled": true
   },
   "outputs": [],
   "source": [
    "# Replace 'S1', 'S2', 'S3' with 'S' in the copied DataFrame\n",
    "df_ms_500_2['label'].replace(['S1', 'S2', 'S3'], 'S', inplace=True)"
   ]
  },
  {
   "cell_type": "code",
   "execution_count": 49,
   "id": "7ecc6a0d",
   "metadata": {
    "scrolled": false
   },
   "outputs": [
    {
     "data": {
      "text/plain": [
       "array(['N', 'S'], dtype=object)"
      ]
     },
     "execution_count": 49,
     "metadata": {},
     "output_type": "execute_result"
    }
   ],
   "source": [
    "df_ms_500_2['label'].unique()"
   ]
  },
  {
   "cell_type": "code",
   "execution_count": 50,
   "id": "5c909099",
   "metadata": {},
   "outputs": [],
   "source": [
    "#mfcc Mean and Std columns\n",
    "x_ms_500 = df_ms_500_2.iloc[:,1:]"
   ]
  },
  {
   "cell_type": "code",
   "execution_count": 51,
   "id": "8fd05b4f",
   "metadata": {},
   "outputs": [],
   "source": [
    "#variable for the label\n",
    "y_2_500 = df_ms_500_2.loc[:,'label']\n",
    "\n",
    "# Convert 'N' to 0 and 'S' to 1\n",
    "y_2_500 = y_2_500.map({'N': 0, 'S': 1})"
   ]
  },
  {
   "cell_type": "code",
   "execution_count": 52,
   "id": "17c9f00d",
   "metadata": {},
   "outputs": [],
   "source": [
    "#splitting the data into train and test data\n",
    "X_ms_2_500_train, X_ms_2_500_test, y_2_500_train, y_2_500_test = train_test_split(x_ms_500, y_2_500, test_size=0.2, random_state=123)"
   ]
  },
  {
   "cell_type": "code",
   "execution_count": 53,
   "id": "6d2b1049",
   "metadata": {},
   "outputs": [],
   "source": [
    "#defining a variable for scaler\n",
    "scaler = StandardScaler() \n",
    "\n",
    "#scalling the value for all features, for the first model we take the mean only as the input\n",
    "x_ms_2_500_train_scaled = scaler.fit_transform(X_ms_2_500_train)\n",
    "x_ms_2_500_test_scaled = scaler.transform(X_ms_2_500_test)"
   ]
  },
  {
   "cell_type": "code",
   "execution_count": 54,
   "id": "2cc51aa3",
   "metadata": {},
   "outputs": [
    {
     "name": "stdout",
     "output_type": "stream",
     "text": [
      "              precision    recall  f1-score   support\n",
      "\n",
      "           0       0.96      0.94      0.95      3675\n",
      "           1       0.95      0.97      0.96      4004\n",
      "\n",
      "    accuracy                           0.96      7679\n",
      "   macro avg       0.96      0.96      0.96      7679\n",
      "weighted avg       0.96      0.96      0.96      7679\n",
      "\n"
     ]
    }
   ],
   "source": [
    "# Create an XGBoost classifier with default hyperparameters\n",
    "xgb_model_ms_2_500 = XGBClassifier()\n",
    "\n",
    "# Fit the model to your training data\n",
    "xgb_model_ms_2_500.fit(x_ms_2_500_train_scaled, y_2_500_train)\n",
    "\n",
    "# Make predictions on your test data\n",
    "y_pred_xgb_ms_2_500 = xgb_model_ms_2_500.predict(x_ms_2_500_test_scaled)\n",
    "\n",
    "# Evaluate the model's performance\n",
    "print(classification_report(y_2_500_test, y_pred_xgb_ms_2_500))"
   ]
  },
  {
   "cell_type": "markdown",
   "id": "c6b87fe7",
   "metadata": {},
   "source": [
    "### 4 Classes"
   ]
  },
  {
   "cell_type": "code",
   "execution_count": 55,
   "id": "16a5bdc7",
   "metadata": {},
   "outputs": [],
   "source": [
    "# y input for the model\n",
    "y_4_500 = df_ms_500['label'].copy()\n",
    "\n",
    "# Define a mapping from categories to numerical values\n",
    "label_mapping = {'N': 0, 'S1': 1, 'S2': 2, 'S3': 3, }\n",
    "\n",
    "# Use the map function to convert the 'label' column\n",
    "y_4_500 = y_4_500.map(label_mapping)"
   ]
  },
  {
   "cell_type": "code",
   "execution_count": 56,
   "id": "9e7a694c",
   "metadata": {},
   "outputs": [
    {
     "data": {
      "text/plain": [
       "array([0, 1, 2, 3], dtype=int64)"
      ]
     },
     "execution_count": 56,
     "metadata": {},
     "output_type": "execute_result"
    }
   ],
   "source": [
    "y_4_500.unique()"
   ]
  },
  {
   "cell_type": "code",
   "execution_count": 57,
   "id": "b042949a",
   "metadata": {},
   "outputs": [],
   "source": [
    "#splitting the data into train and test data\n",
    "X_ms_4_500_train, X_ms_4_500_test, y_4_500_train, y_4_500_test = train_test_split(x_ms_500, y_4_500, test_size=0.2, random_state=123)"
   ]
  },
  {
   "cell_type": "code",
   "execution_count": 58,
   "id": "14648bfb",
   "metadata": {},
   "outputs": [],
   "source": [
    "#defining a variable for scaler\n",
    "scaler = StandardScaler() \n",
    "\n",
    "#scalling the value for all features, for the first model we take the mean only as the input\n",
    "x_ms_4_500_train_scaled = scaler.fit_transform(X_ms_4_500_train)\n",
    "x_ms_4_500_test_scaled = scaler.transform(X_ms_4_500_test)"
   ]
  },
  {
   "cell_type": "code",
   "execution_count": 59,
   "id": "701735f7",
   "metadata": {
    "scrolled": false
   },
   "outputs": [
    {
     "name": "stdout",
     "output_type": "stream",
     "text": [
      "              precision    recall  f1-score   support\n",
      "\n",
      "           0       0.97      0.95      0.96      3675\n",
      "           1       0.94      0.96      0.95      3814\n",
      "           2       0.77      0.76      0.77       173\n",
      "           3       0.90      0.53      0.67        17\n",
      "\n",
      "    accuracy                           0.95      7679\n",
      "   macro avg       0.89      0.80      0.84      7679\n",
      "weighted avg       0.95      0.95      0.95      7679\n",
      "\n"
     ]
    }
   ],
   "source": [
    "# Create an XGBoost classifier with default hyperparameters\n",
    "xgb_model_ms_4_500 = XGBClassifier()\n",
    "\n",
    "# Fit the model to your training data\n",
    "xgb_model_ms_4_500.fit(x_ms_4_500_train_scaled, y_4_500_train)\n",
    "\n",
    "# Make predictions on your test data\n",
    "y_pred_xgb_ms_4_500 = xgb_model_ms_4_500.predict(x_ms_4_500_test_scaled)\n",
    "\n",
    "# Evaluate the model's performance\n",
    "print(classification_report(y_4_500_test, y_pred_xgb_ms_4_500))"
   ]
  },
  {
   "cell_type": "code",
   "execution_count": null,
   "id": "8cfb2f1d",
   "metadata": {},
   "outputs": [],
   "source": []
  },
  {
   "cell_type": "markdown",
   "id": "e6de0057",
   "metadata": {},
   "source": [
    "## Classification Report of All Dataset for XGBoost Model"
   ]
  },
  {
   "cell_type": "markdown",
   "id": "3269f7ef",
   "metadata": {},
   "source": [
    "### 2 Classes"
   ]
  },
  {
   "cell_type": "markdown",
   "id": "58bfb241",
   "metadata": {},
   "source": [
    "### 50 ms"
   ]
  },
  {
   "cell_type": "code",
   "execution_count": 60,
   "id": "e2b9c4b8",
   "metadata": {},
   "outputs": [
    {
     "name": "stdout",
     "output_type": "stream",
     "text": [
      "              precision    recall  f1-score   support\n",
      "\n",
      "           0       0.96      0.95      0.95      3675\n",
      "           1       0.95      0.96      0.96      4004\n",
      "\n",
      "    accuracy                           0.96      7679\n",
      "   macro avg       0.96      0.95      0.95      7679\n",
      "weighted avg       0.96      0.96      0.96      7679\n",
      "\n"
     ]
    }
   ],
   "source": [
    "print(classification_report(y_2_50_test, y_pred_xgb_ms_2_50))"
   ]
  },
  {
   "cell_type": "markdown",
   "id": "256f7885",
   "metadata": {},
   "source": [
    "### 100 ms"
   ]
  },
  {
   "cell_type": "code",
   "execution_count": 61,
   "id": "f08534a0",
   "metadata": {
    "scrolled": true
   },
   "outputs": [
    {
     "name": "stdout",
     "output_type": "stream",
     "text": [
      "              precision    recall  f1-score   support\n",
      "\n",
      "           0       0.96      0.94      0.95      3675\n",
      "           1       0.95      0.97      0.96      4004\n",
      "\n",
      "    accuracy                           0.96      7679\n",
      "   macro avg       0.96      0.95      0.96      7679\n",
      "weighted avg       0.96      0.96      0.96      7679\n",
      "\n"
     ]
    }
   ],
   "source": [
    "print(classification_report(y_2_100_test, y_pred_xgb_ms_2_100))"
   ]
  },
  {
   "cell_type": "markdown",
   "id": "c1c1a0c0",
   "metadata": {},
   "source": [
    "### 500 ms"
   ]
  },
  {
   "cell_type": "code",
   "execution_count": 62,
   "id": "25d2b6a4",
   "metadata": {},
   "outputs": [
    {
     "name": "stdout",
     "output_type": "stream",
     "text": [
      "              precision    recall  f1-score   support\n",
      "\n",
      "           0       0.96      0.94      0.95      3675\n",
      "           1       0.95      0.97      0.96      4004\n",
      "\n",
      "    accuracy                           0.96      7679\n",
      "   macro avg       0.96      0.96      0.96      7679\n",
      "weighted avg       0.96      0.96      0.96      7679\n",
      "\n"
     ]
    }
   ],
   "source": [
    "print(classification_report(y_2_500_test, y_pred_xgb_ms_2_500))"
   ]
  },
  {
   "cell_type": "markdown",
   "id": "1119e45c",
   "metadata": {},
   "source": [
    "### 4 Classes "
   ]
  },
  {
   "cell_type": "markdown",
   "id": "35571841",
   "metadata": {},
   "source": [
    "### 50 ms"
   ]
  },
  {
   "cell_type": "code",
   "execution_count": 63,
   "id": "e3f7aefc",
   "metadata": {},
   "outputs": [
    {
     "name": "stdout",
     "output_type": "stream",
     "text": [
      "              precision    recall  f1-score   support\n",
      "\n",
      "           0       0.97      0.95      0.96      3675\n",
      "           1       0.94      0.96      0.95      3814\n",
      "           2       0.79      0.73      0.76       173\n",
      "           3       0.77      0.59      0.67        17\n",
      "\n",
      "    accuracy                           0.95      7679\n",
      "   macro avg       0.87      0.81      0.83      7679\n",
      "weighted avg       0.95      0.95      0.95      7679\n",
      "\n"
     ]
    }
   ],
   "source": [
    "print(classification_report(y_4_50_test, y_pred_xgb_ms_4_50))"
   ]
  },
  {
   "cell_type": "markdown",
   "id": "048b07b5",
   "metadata": {},
   "source": [
    "### 100 ms"
   ]
  },
  {
   "cell_type": "code",
   "execution_count": 64,
   "id": "7d013869",
   "metadata": {},
   "outputs": [
    {
     "name": "stdout",
     "output_type": "stream",
     "text": [
      "              precision    recall  f1-score   support\n",
      "\n",
      "           0       0.97      0.94      0.95      3675\n",
      "           1       0.94      0.96      0.95      3814\n",
      "           2       0.75      0.72      0.73       173\n",
      "           3       0.73      0.47      0.57        17\n",
      "\n",
      "    accuracy                           0.95      7679\n",
      "   macro avg       0.85      0.77      0.80      7679\n",
      "weighted avg       0.95      0.95      0.95      7679\n",
      "\n"
     ]
    }
   ],
   "source": [
    "print(classification_report(y_4_100_test, y_pred_xgb_ms_4_100))"
   ]
  },
  {
   "cell_type": "markdown",
   "id": "26dd5c4b",
   "metadata": {},
   "source": [
    "### 500 ms"
   ]
  },
  {
   "cell_type": "code",
   "execution_count": 65,
   "id": "ea4b180c",
   "metadata": {},
   "outputs": [
    {
     "name": "stdout",
     "output_type": "stream",
     "text": [
      "              precision    recall  f1-score   support\n",
      "\n",
      "           0       0.97      0.95      0.96      3675\n",
      "           1       0.94      0.96      0.95      3814\n",
      "           2       0.77      0.76      0.77       173\n",
      "           3       0.90      0.53      0.67        17\n",
      "\n",
      "    accuracy                           0.95      7679\n",
      "   macro avg       0.89      0.80      0.84      7679\n",
      "weighted avg       0.95      0.95      0.95      7679\n",
      "\n"
     ]
    }
   ],
   "source": [
    "print(classification_report(y_4_500_test, y_pred_xgb_ms_4_500))"
   ]
  },
  {
   "cell_type": "code",
   "execution_count": null,
   "id": "e10a8bb8",
   "metadata": {},
   "outputs": [],
   "source": []
  },
  {
   "cell_type": "markdown",
   "id": "065d3003",
   "metadata": {},
   "source": [
    "### save the best model and dataset"
   ]
  },
  {
   "cell_type": "code",
   "execution_count": 66,
   "id": "19254149",
   "metadata": {},
   "outputs": [],
   "source": [
    "import joblib "
   ]
  },
  {
   "cell_type": "markdown",
   "id": "1d7c4e68",
   "metadata": {},
   "source": [
    "#### 50 ms"
   ]
  },
  {
   "cell_type": "code",
   "execution_count": 67,
   "id": "d5a82f07",
   "metadata": {},
   "outputs": [
    {
     "data": {
      "text/plain": [
       "['ml_2_50.sav']"
      ]
     },
     "execution_count": 67,
     "metadata": {},
     "output_type": "execute_result"
    }
   ],
   "source": [
    "#Save the test Data\n",
    "test_data_50= {'X_test': x_ms_2_50_test_scaled, 'y_test': y_2_50_test}\n",
    "np.save('ml_test_data_50.npy', test_data_50)\n",
    "#Save the model\n",
    "joblib.dump(xgb_model_ms_2_50, 'ml_2_50.sav')"
   ]
  },
  {
   "cell_type": "markdown",
   "id": "7dc7ca02",
   "metadata": {},
   "source": [
    "#### 100 ms"
   ]
  },
  {
   "cell_type": "code",
   "execution_count": 68,
   "id": "a66ba1f7",
   "metadata": {},
   "outputs": [
    {
     "data": {
      "text/plain": [
       "['ml_2_100.sav']"
      ]
     },
     "execution_count": 68,
     "metadata": {},
     "output_type": "execute_result"
    }
   ],
   "source": [
    "#Save the test Data\n",
    "test_data_100= {'X_test': x_ms_2_100_test_scaled, 'y_test': y_2_100_test}\n",
    "np.save('ml_test_data_100.npy', test_data_100)\n",
    "#Save the model\n",
    "joblib.dump(xgb_model_ms_2_100, 'ml_2_100.sav')"
   ]
  },
  {
   "cell_type": "markdown",
   "id": "c8531872",
   "metadata": {},
   "source": [
    "#### 500 ms"
   ]
  },
  {
   "cell_type": "code",
   "execution_count": 69,
   "id": "2d71ab35",
   "metadata": {},
   "outputs": [
    {
     "data": {
      "text/plain": [
       "['ml_2_500.sav']"
      ]
     },
     "execution_count": 69,
     "metadata": {},
     "output_type": "execute_result"
    }
   ],
   "source": [
    "#Save the test Data\n",
    "test_data_500= {'X_test': x_ms_2_500_test_scaled, 'y_test': y_2_500_test}\n",
    "np.save('ml_test_data_500.npy', test_data_500)\n",
    "#Save the model\n",
    "joblib.dump(xgb_model_ms_2_500, 'ml_2_500.sav')"
   ]
  },
  {
   "cell_type": "code",
   "execution_count": null,
   "id": "8d652c6f",
   "metadata": {},
   "outputs": [],
   "source": []
  }
 ],
 "metadata": {
  "kernelspec": {
   "display_name": "Python 3 (ipykernel)",
   "language": "python",
   "name": "python3"
  },
  "language_info": {
   "codemirror_mode": {
    "name": "ipython",
    "version": 3
   },
   "file_extension": ".py",
   "mimetype": "text/x-python",
   "name": "python",
   "nbconvert_exporter": "python",
   "pygments_lexer": "ipython3",
   "version": "3.10.9"
  }
 },
 "nbformat": 4,
 "nbformat_minor": 5
}
