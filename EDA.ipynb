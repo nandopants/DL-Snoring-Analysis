{
 "cells": [
  {
   "cell_type": "markdown",
   "id": "d9e98ac8",
   "metadata": {},
   "source": [
    "Histogram for the skewness\n",
    "Boxplot to see outliers\n",
    "average\n",
    "check mfcc\n"
   ]
  },
  {
   "cell_type": "code",
   "execution_count": 8,
   "id": "1e12ec84",
   "metadata": {},
   "outputs": [],
   "source": [
    "import pandas as pd\n",
    "import os\n",
    "import matplotlib.pyplot as plt"
   ]
  },
  {
   "cell_type": "markdown",
   "id": "650acc04",
   "metadata": {},
   "source": [
    "### Check One Labeled Data"
   ]
  },
  {
   "cell_type": "code",
   "execution_count": 2,
   "id": "a1e0658b",
   "metadata": {},
   "outputs": [],
   "source": [
    "df0 =pd.read_csv(\"Label Data-20230830T070214Z-001\\Label Data\\Label_000.csv\", header=None)"
   ]
  },
  {
   "cell_type": "code",
   "execution_count": 3,
   "id": "57163543",
   "metadata": {
    "scrolled": true
   },
   "outputs": [
    {
     "data": {
      "text/html": [
       "<div>\n",
       "<style scoped>\n",
       "    .dataframe tbody tr th:only-of-type {\n",
       "        vertical-align: middle;\n",
       "    }\n",
       "\n",
       "    .dataframe tbody tr th {\n",
       "        vertical-align: top;\n",
       "    }\n",
       "\n",
       "    .dataframe thead th {\n",
       "        text-align: right;\n",
       "    }\n",
       "</style>\n",
       "<table border=\"1\" class=\"dataframe\">\n",
       "  <thead>\n",
       "    <tr style=\"text-align: right;\">\n",
       "      <th></th>\n",
       "      <th>0</th>\n",
       "      <th>1</th>\n",
       "      <th>2</th>\n",
       "    </tr>\n",
       "  </thead>\n",
       "  <tbody>\n",
       "    <tr>\n",
       "      <th>0</th>\n",
       "      <td>2819.986311</td>\n",
       "      <td>2819.986311</td>\n",
       "      <td>Start to sleep</td>\n",
       "    </tr>\n",
       "    <tr>\n",
       "      <th>1</th>\n",
       "      <td>3041.878030</td>\n",
       "      <td>3045.269745</td>\n",
       "      <td>S1</td>\n",
       "    </tr>\n",
       "    <tr>\n",
       "      <th>2</th>\n",
       "      <td>3047.026899</td>\n",
       "      <td>3050.418614</td>\n",
       "      <td>S1</td>\n",
       "    </tr>\n",
       "    <tr>\n",
       "      <th>3</th>\n",
       "      <td>5039.720786</td>\n",
       "      <td>5043.194229</td>\n",
       "      <td>S1</td>\n",
       "    </tr>\n",
       "    <tr>\n",
       "      <th>4</th>\n",
       "      <td>5168.074725</td>\n",
       "      <td>5171.834216</td>\n",
       "      <td>S1</td>\n",
       "    </tr>\n",
       "    <tr>\n",
       "      <th>...</th>\n",
       "      <td>...</td>\n",
       "      <td>...</td>\n",
       "      <td>...</td>\n",
       "    </tr>\n",
       "    <tr>\n",
       "      <th>621</th>\n",
       "      <td>16433.840150</td>\n",
       "      <td>16437.191000</td>\n",
       "      <td>S1</td>\n",
       "    </tr>\n",
       "    <tr>\n",
       "      <th>622</th>\n",
       "      <td>16438.457780</td>\n",
       "      <td>16441.849500</td>\n",
       "      <td>S1</td>\n",
       "    </tr>\n",
       "    <tr>\n",
       "      <th>623</th>\n",
       "      <td>16496.893360</td>\n",
       "      <td>16500.080750</td>\n",
       "      <td>S1</td>\n",
       "    </tr>\n",
       "    <tr>\n",
       "      <th>624</th>\n",
       "      <td>16500.407660</td>\n",
       "      <td>16503.799380</td>\n",
       "      <td>S2</td>\n",
       "    </tr>\n",
       "    <tr>\n",
       "      <th>625</th>\n",
       "      <td>16504.534930</td>\n",
       "      <td>16507.640600</td>\n",
       "      <td>S1</td>\n",
       "    </tr>\n",
       "  </tbody>\n",
       "</table>\n",
       "<p>626 rows × 3 columns</p>\n",
       "</div>"
      ],
      "text/plain": [
       "                0             1               2\n",
       "0     2819.986311   2819.986311  Start to sleep\n",
       "1     3041.878030   3045.269745              S1\n",
       "2     3047.026899   3050.418614              S1\n",
       "3     5039.720786   5043.194229              S1\n",
       "4     5168.074725   5171.834216              S1\n",
       "..            ...           ...             ...\n",
       "621  16433.840150  16437.191000              S1\n",
       "622  16438.457780  16441.849500              S1\n",
       "623  16496.893360  16500.080750              S1\n",
       "624  16500.407660  16503.799380              S2\n",
       "625  16504.534930  16507.640600              S1\n",
       "\n",
       "[626 rows x 3 columns]"
      ]
     },
     "execution_count": 3,
     "metadata": {},
     "output_type": "execute_result"
    }
   ],
   "source": [
    "df0"
   ]
  },
  {
   "cell_type": "code",
   "execution_count": 17,
   "id": "dd04ef8e",
   "metadata": {},
   "outputs": [
    {
     "name": "stdout",
     "output_type": "stream",
     "text": [
      "       start_time      end_time           level  duration\n",
      "0     2819.986311   2819.986311  Start to sleep  0.000000\n",
      "1     3041.878030   3045.269745              S1  3.391715\n",
      "2     3047.026899   3050.418614              S1  3.391715\n",
      "3     5039.720786   5043.194229              S1  3.473443\n",
      "4     5168.074725   5171.834216              S1  3.759491\n",
      "..            ...           ...             ...       ...\n",
      "621  16433.840150  16437.191000              S1  3.350850\n",
      "622  16438.457780  16441.849500              S1  3.391720\n",
      "623  16496.893360  16500.080750              S1  3.187390\n",
      "624  16500.407660  16503.799380              S2  3.391720\n",
      "625  16504.534930  16507.640600              S1  3.105670\n",
      "\n",
      "[626 rows x 4 columns]\n"
     ]
    }
   ],
   "source": [
    "# Rename columns for clarity\n",
    "df0.columns = ['start_time', 'end_time', 'level']\n",
    "\n",
    "# Calculate duration\n",
    "df0['duration'] = df0['end_time'] - df0['start_time']\n",
    "\n",
    "# Display the updated DataFrame\n",
    "print(df0)"
   ]
  },
  {
   "cell_type": "markdown",
   "id": "56153dfd",
   "metadata": {},
   "source": [
    "### Combine Data from All label"
   ]
  },
  {
   "cell_type": "code",
   "execution_count": 48,
   "id": "a79b372c",
   "metadata": {},
   "outputs": [],
   "source": [
    "# Path to the folder containing CSV files\n",
    "folder_path = 'Label Data-20230830T070214Z-001\\Label Data'\n",
    "\n",
    "# List all CSV files in the folder\n",
    "csv_files = [f for f in os.listdir(folder_path) if f.endswith('.csv')]\n",
    "\n",
    "# Initialize an empty list to hold dataframes\n",
    "dfs = []\n",
    "\n",
    "# Loop through each CSV file and read it into a DataFrame\n",
    "for csv_file in csv_files:\n",
    "    file_path = os.path.join(folder_path, csv_file)\n",
    "    df = pd.read_csv(file_path, header=None)  # Assuming files don't have headers\n",
    "    dfs.append(df)\n",
    "\n",
    "# Concatenate all DataFrames into a single DataFrame\n",
    "combined_df = pd.concat(dfs, ignore_index=True)\n",
    "\n",
    "# Rename columns for clarity\n",
    "combined_df.columns = ['start_time', 'end_time', 'level']"
   ]
  },
  {
   "cell_type": "code",
   "execution_count": 49,
   "id": "db92ea5a",
   "metadata": {},
   "outputs": [
    {
     "data": {
      "text/html": [
       "<div>\n",
       "<style scoped>\n",
       "    .dataframe tbody tr th:only-of-type {\n",
       "        vertical-align: middle;\n",
       "    }\n",
       "\n",
       "    .dataframe tbody tr th {\n",
       "        vertical-align: top;\n",
       "    }\n",
       "\n",
       "    .dataframe thead th {\n",
       "        text-align: right;\n",
       "    }\n",
       "</style>\n",
       "<table border=\"1\" class=\"dataframe\">\n",
       "  <thead>\n",
       "    <tr style=\"text-align: right;\">\n",
       "      <th></th>\n",
       "      <th>start_time</th>\n",
       "      <th>end_time</th>\n",
       "      <th>level</th>\n",
       "    </tr>\n",
       "  </thead>\n",
       "  <tbody>\n",
       "    <tr>\n",
       "      <th>1077</th>\n",
       "      <td>11563.983630</td>\n",
       "      <td>11567.312170</td>\n",
       "      <td>NaN</td>\n",
       "    </tr>\n",
       "    <tr>\n",
       "      <th>7137</th>\n",
       "      <td>8294.597318</td>\n",
       "      <td>8297.687159</td>\n",
       "      <td>NaN</td>\n",
       "    </tr>\n",
       "    <tr>\n",
       "      <th>9310</th>\n",
       "      <td>4109.494442</td>\n",
       "      <td>4112.727508</td>\n",
       "      <td>NaN</td>\n",
       "    </tr>\n",
       "  </tbody>\n",
       "</table>\n",
       "</div>"
      ],
      "text/plain": [
       "        start_time      end_time level\n",
       "1077  11563.983630  11567.312170   NaN\n",
       "7137   8294.597318   8297.687159   NaN\n",
       "9310   4109.494442   4112.727508   NaN"
      ]
     },
     "execution_count": 49,
     "metadata": {},
     "output_type": "execute_result"
    }
   ],
   "source": [
    "#Check Null values\n",
    "combined_df[combined_df.isnull().any(axis=1)]"
   ]
  },
  {
   "cell_type": "code",
   "execution_count": 50,
   "id": "a3716648",
   "metadata": {},
   "outputs": [],
   "source": [
    "# Drop rows with null values\n",
    "combined_df.dropna(inplace=True)"
   ]
  },
  {
   "cell_type": "code",
   "execution_count": 51,
   "id": "116410ca",
   "metadata": {},
   "outputs": [
    {
     "data": {
      "text/plain": [
       "array(['Start to sleep', 'S1', 'S2', 'S3', 'S1`', '1', 'S1  ', 'S!', '1S',\n",
       "       'W1', 'SS1', 'D1'], dtype=object)"
      ]
     },
     "execution_count": 51,
     "metadata": {},
     "output_type": "execute_result"
    }
   ],
   "source": [
    "# Get distinct levels\n",
    "combined_df['level'].unique()"
   ]
  },
  {
   "cell_type": "code",
   "execution_count": 52,
   "id": "f07a6bdf",
   "metadata": {},
   "outputs": [],
   "source": [
    "# Replace typo levels with 'S1'\n",
    "typo_levels = ['1', 'S1`', 'S1  ','S!', '1S', 'W1', 'SS1', 'D1']\n",
    "correct_level = 'S1'\n",
    "\n",
    "combined_df['level'] = combined_df['level'].replace(typo_levels, correct_level)"
   ]
  },
  {
   "cell_type": "code",
   "execution_count": 53,
   "id": "150cb66e",
   "metadata": {},
   "outputs": [
    {
     "data": {
      "text/plain": [
       "array(['Start to sleep', 'S1', 'S2', 'S3'], dtype=object)"
      ]
     },
     "execution_count": 53,
     "metadata": {},
     "output_type": "execute_result"
    }
   ],
   "source": [
    "# Check distinct levels\n",
    "combined_df['level'].unique()"
   ]
  },
  {
   "cell_type": "code",
   "execution_count": 54,
   "id": "7833c5fb",
   "metadata": {},
   "outputs": [],
   "source": [
    "# Calculate duration\n",
    "combined_df['duration'] = combined_df['end_time'] - combined_df['start_time']"
   ]
  },
  {
   "cell_type": "code",
   "execution_count": 55,
   "id": "87a4e98e",
   "metadata": {
    "scrolled": false
   },
   "outputs": [
    {
     "data": {
      "text/html": [
       "<div>\n",
       "<style scoped>\n",
       "    .dataframe tbody tr th:only-of-type {\n",
       "        vertical-align: middle;\n",
       "    }\n",
       "\n",
       "    .dataframe tbody tr th {\n",
       "        vertical-align: top;\n",
       "    }\n",
       "\n",
       "    .dataframe thead th {\n",
       "        text-align: right;\n",
       "    }\n",
       "</style>\n",
       "<table border=\"1\" class=\"dataframe\">\n",
       "  <thead>\n",
       "    <tr style=\"text-align: right;\">\n",
       "      <th></th>\n",
       "      <th>start_time</th>\n",
       "      <th>end_time</th>\n",
       "      <th>level</th>\n",
       "      <th>duration</th>\n",
       "    </tr>\n",
       "  </thead>\n",
       "  <tbody>\n",
       "    <tr>\n",
       "      <th>0</th>\n",
       "      <td>2819.986311</td>\n",
       "      <td>2819.986311</td>\n",
       "      <td>Start to sleep</td>\n",
       "      <td>0.000000</td>\n",
       "    </tr>\n",
       "    <tr>\n",
       "      <th>1</th>\n",
       "      <td>3041.878030</td>\n",
       "      <td>3045.269745</td>\n",
       "      <td>S1</td>\n",
       "      <td>3.391715</td>\n",
       "    </tr>\n",
       "    <tr>\n",
       "      <th>2</th>\n",
       "      <td>3047.026899</td>\n",
       "      <td>3050.418614</td>\n",
       "      <td>S1</td>\n",
       "      <td>3.391715</td>\n",
       "    </tr>\n",
       "    <tr>\n",
       "      <th>3</th>\n",
       "      <td>5039.720786</td>\n",
       "      <td>5043.194229</td>\n",
       "      <td>S1</td>\n",
       "      <td>3.473443</td>\n",
       "    </tr>\n",
       "    <tr>\n",
       "      <th>4</th>\n",
       "      <td>5168.074725</td>\n",
       "      <td>5171.834216</td>\n",
       "      <td>S1</td>\n",
       "      <td>3.759491</td>\n",
       "    </tr>\n",
       "    <tr>\n",
       "      <th>...</th>\n",
       "      <td>...</td>\n",
       "      <td>...</td>\n",
       "      <td>...</td>\n",
       "      <td>...</td>\n",
       "    </tr>\n",
       "    <tr>\n",
       "      <th>19965</th>\n",
       "      <td>5961.521731</td>\n",
       "      <td>5964.509268</td>\n",
       "      <td>S1</td>\n",
       "      <td>2.987537</td>\n",
       "    </tr>\n",
       "    <tr>\n",
       "      <th>19966</th>\n",
       "      <td>5966.790660</td>\n",
       "      <td>5969.778197</td>\n",
       "      <td>S1</td>\n",
       "      <td>2.987537</td>\n",
       "    </tr>\n",
       "    <tr>\n",
       "      <th>19967</th>\n",
       "      <td>5971.407763</td>\n",
       "      <td>5974.395300</td>\n",
       "      <td>S1</td>\n",
       "      <td>2.987537</td>\n",
       "    </tr>\n",
       "    <tr>\n",
       "      <th>19968</th>\n",
       "      <td>5975.427358</td>\n",
       "      <td>5978.414895</td>\n",
       "      <td>S1</td>\n",
       "      <td>2.987537</td>\n",
       "    </tr>\n",
       "    <tr>\n",
       "      <th>19969</th>\n",
       "      <td>5979.338316</td>\n",
       "      <td>5982.325853</td>\n",
       "      <td>S2</td>\n",
       "      <td>2.987537</td>\n",
       "    </tr>\n",
       "  </tbody>\n",
       "</table>\n",
       "<p>19967 rows × 4 columns</p>\n",
       "</div>"
      ],
      "text/plain": [
       "        start_time     end_time           level  duration\n",
       "0      2819.986311  2819.986311  Start to sleep  0.000000\n",
       "1      3041.878030  3045.269745              S1  3.391715\n",
       "2      3047.026899  3050.418614              S1  3.391715\n",
       "3      5039.720786  5043.194229              S1  3.473443\n",
       "4      5168.074725  5171.834216              S1  3.759491\n",
       "...            ...          ...             ...       ...\n",
       "19965  5961.521731  5964.509268              S1  2.987537\n",
       "19966  5966.790660  5969.778197              S1  2.987537\n",
       "19967  5971.407763  5974.395300              S1  2.987537\n",
       "19968  5975.427358  5978.414895              S1  2.987537\n",
       "19969  5979.338316  5982.325853              S2  2.987537\n",
       "\n",
       "[19967 rows x 4 columns]"
      ]
     },
     "execution_count": 55,
     "metadata": {},
     "output_type": "execute_result"
    }
   ],
   "source": [
    "combined_df"
   ]
  },
  {
   "cell_type": "markdown",
   "id": "a2be94ca",
   "metadata": {},
   "source": [
    "### Descriptive Statistic"
   ]
  },
  {
   "cell_type": "code",
   "execution_count": 58,
   "id": "173bf60a",
   "metadata": {},
   "outputs": [
    {
     "data": {
      "text/html": [
       "<div>\n",
       "<style scoped>\n",
       "    .dataframe tbody tr th:only-of-type {\n",
       "        vertical-align: middle;\n",
       "    }\n",
       "\n",
       "    .dataframe tbody tr th {\n",
       "        vertical-align: top;\n",
       "    }\n",
       "\n",
       "    .dataframe thead th {\n",
       "        text-align: right;\n",
       "    }\n",
       "</style>\n",
       "<table border=\"1\" class=\"dataframe\">\n",
       "  <thead>\n",
       "    <tr style=\"text-align: right;\">\n",
       "      <th></th>\n",
       "      <th>count</th>\n",
       "      <th>mean</th>\n",
       "      <th>std</th>\n",
       "      <th>min</th>\n",
       "      <th>25%</th>\n",
       "      <th>50%</th>\n",
       "      <th>75%</th>\n",
       "      <th>max</th>\n",
       "    </tr>\n",
       "    <tr>\n",
       "      <th>level</th>\n",
       "      <th></th>\n",
       "      <th></th>\n",
       "      <th></th>\n",
       "      <th></th>\n",
       "      <th></th>\n",
       "      <th></th>\n",
       "      <th></th>\n",
       "      <th></th>\n",
       "    </tr>\n",
       "  </thead>\n",
       "  <tbody>\n",
       "    <tr>\n",
       "      <th>S1</th>\n",
       "      <td>18994.0</td>\n",
       "      <td>3.076666</td>\n",
       "      <td>0.164908</td>\n",
       "      <td>1.955867</td>\n",
       "      <td>2.981100</td>\n",
       "      <td>3.013320</td>\n",
       "      <td>3.146530</td>\n",
       "      <td>6.66084</td>\n",
       "    </tr>\n",
       "    <tr>\n",
       "      <th>S2</th>\n",
       "      <td>865.0</td>\n",
       "      <td>3.086015</td>\n",
       "      <td>0.280219</td>\n",
       "      <td>1.531702</td>\n",
       "      <td>2.987537</td>\n",
       "      <td>3.079320</td>\n",
       "      <td>3.256300</td>\n",
       "      <td>4.10577</td>\n",
       "    </tr>\n",
       "    <tr>\n",
       "      <th>S3</th>\n",
       "      <td>81.0</td>\n",
       "      <td>2.978206</td>\n",
       "      <td>0.229648</td>\n",
       "      <td>2.281098</td>\n",
       "      <td>2.898452</td>\n",
       "      <td>2.987537</td>\n",
       "      <td>3.049224</td>\n",
       "      <td>3.61025</td>\n",
       "    </tr>\n",
       "    <tr>\n",
       "      <th>Start to sleep</th>\n",
       "      <td>27.0</td>\n",
       "      <td>0.000000</td>\n",
       "      <td>0.000000</td>\n",
       "      <td>0.000000</td>\n",
       "      <td>0.000000</td>\n",
       "      <td>0.000000</td>\n",
       "      <td>0.000000</td>\n",
       "      <td>0.00000</td>\n",
       "    </tr>\n",
       "  </tbody>\n",
       "</table>\n",
       "</div>"
      ],
      "text/plain": [
       "                  count      mean       std       min       25%       50%  \\\n",
       "level                                                                       \n",
       "S1              18994.0  3.076666  0.164908  1.955867  2.981100  3.013320   \n",
       "S2                865.0  3.086015  0.280219  1.531702  2.987537  3.079320   \n",
       "S3                 81.0  2.978206  0.229648  2.281098  2.898452  2.987537   \n",
       "Start to sleep     27.0  0.000000  0.000000  0.000000  0.000000  0.000000   \n",
       "\n",
       "                     75%      max  \n",
       "level                              \n",
       "S1              3.146530  6.66084  \n",
       "S2              3.256300  4.10577  \n",
       "S3              3.049224  3.61025  \n",
       "Start to sleep  0.000000  0.00000  "
      ]
     },
     "execution_count": 58,
     "metadata": {},
     "output_type": "execute_result"
    }
   ],
   "source": [
    "# Group data by level and calculate average duration\n",
    "combined_df.groupby('level')['duration'].describe()"
   ]
  },
  {
   "cell_type": "code",
   "execution_count": 59,
   "id": "7e8a6d71",
   "metadata": {},
   "outputs": [],
   "source": [
    "output_folder = 'Cleaned Data'"
   ]
  },
  {
   "cell_type": "code",
   "execution_count": 62,
   "id": "10926f29",
   "metadata": {},
   "outputs": [],
   "source": [
    "# Path to the folder containing CSV files\n",
    "folder_path = 'Label Data-20230830T070214Z-001/Label Data'  # Use forward slashes on Windows too\n",
    "\n",
    "# List all CSV files in the folder\n",
    "csv_files = [f for f in os.listdir(folder_path) if f.endswith('.csv')]\n",
    "\n",
    "# Initialize an empty list to hold dataframes\n",
    "dfs = []\n",
    "\n",
    "# Loop through each CSV file, clean and preprocess the data, and save a new output file\n",
    "for csv_file in csv_files:\n",
    "    file_path = os.path.join(folder_path, csv_file)\n",
    "    \n",
    "    # Read the CSV file into a DataFrame\n",
    "    df = pd.read_csv(file_path, header=None)  # Assuming files don't have headers\n",
    "    \n",
    "    # Perform data cleaning and preprocessing as needed\n",
    "    \n",
    "    # Drop rows with null values\n",
    "    df.dropna(inplace=True)\n",
    "    \n",
    "    # Replace typo levels with 'S1'\n",
    "    typo_levels = ['1', 'S1`', 'S1  ', 'S!', '1S', 'W1', 'SS1', 'D1']\n",
    "    correct_level = 'S1'\n",
    "    df[2] = df[2].replace(typo_levels, correct_level)\n",
    "    \n",
    "    # Calculate duration\n",
    "    df['duration'] = df[1] - df[0]\n",
    "    \n",
    "    # Add headers to the DataFrame\n",
    "    df.columns = ['start_time', 'end_time', 'level', 'duration']\n",
    "    \n",
    "    # Save the cleaned and processed DataFrame to a new output file\n",
    "    output_file = f\"{csv_file}\" \n",
    "    output_path = os.path.join(output_folder, output_file)\n",
    "    df.to_csv(output_path, index=False)\n",
    "\n",
    "    # Append the cleaned DataFrame to the list for further analysis if needed\n",
    "    dfs.append(df)\n"
   ]
  },
  {
   "cell_type": "code",
   "execution_count": null,
   "id": "691c62db",
   "metadata": {},
   "outputs": [],
   "source": []
  },
  {
   "cell_type": "markdown",
   "id": "c80225f6",
   "metadata": {},
   "source": [
    "### Mel-frequency cepstrum (MFC)"
   ]
  },
  {
   "cell_type": "markdown",
   "id": "b4db6e32",
   "metadata": {},
   "source": [
    "In sound processing, the mel-frequency cepstrum (MFC) is a representation of the short-term power spectrum of a sound, based on a linear cosine transform of a log power spectrum on a nonlinear mel scale of frequency.\n",
    "\n",
    "Mel-frequency cepstral coefficients (MFCCs) are coefficients that collectively make up an MFC.[1] They are derived from a type of cepstral representation of the audio clip (a nonlinear \"spectrum-of-a-spectrum\"). The difference between the cepstrum and the mel-frequency cepstrum is that in the MFC, the frequency bands are equally spaced on the mel scale, which approximates the human auditory system's response more closely than the linearly-spaced frequency bands used in the normal spectrum. This frequency warping can allow for better representation of sound, for example, in audio compression that might potentially reduce the transmission bandwidth and the storage requirements of audio signals.\n",
    "\n",
    "MFCCs are commonly derived as follows:\n",
    "\n",
    "Take the Fourier transform of (a windowed excerpt of) a signal.\n",
    "Map the powers of the spectrum obtained above onto the mel scale, using triangular overlapping windows or alternatively, cosine overlapping windows.\n",
    "Take the logs of the powers at each of the mel frequencies.\n",
    "Take the discrete cosine transform of the list of mel log powers, as if it were a signal.\n",
    "The MFCCs are the amplitudes of the resulting spectrum."
   ]
  },
  {
   "cell_type": "code",
   "execution_count": null,
   "id": "9d563515",
   "metadata": {},
   "outputs": [],
   "source": []
  }
 ],
 "metadata": {
  "kernelspec": {
   "display_name": "Python 3 (ipykernel)",
   "language": "python",
   "name": "python3"
  },
  "language_info": {
   "codemirror_mode": {
    "name": "ipython",
    "version": 3
   },
   "file_extension": ".py",
   "mimetype": "text/x-python",
   "name": "python",
   "nbconvert_exporter": "python",
   "pygments_lexer": "ipython3",
   "version": "3.10.9"
  }
 },
 "nbformat": 4,
 "nbformat_minor": 5
}
