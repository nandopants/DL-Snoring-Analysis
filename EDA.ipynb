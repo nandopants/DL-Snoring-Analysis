{
 "cells": [
  {
   "cell_type": "code",
   "execution_count": 47,
   "id": "1e12ec84",
   "metadata": {},
   "outputs": [],
   "source": [
    "import pandas as pd\n",
    "import os\n",
    "import matplotlib.pyplot as plt\n",
    "import seaborn as sns"
   ]
  },
  {
   "cell_type": "markdown",
   "id": "650acc04",
   "metadata": {},
   "source": [
    "### Check One Labeled Data"
   ]
  },
  {
   "cell_type": "code",
   "execution_count": 2,
   "id": "a1e0658b",
   "metadata": {},
   "outputs": [],
   "source": [
    "df0 =pd.read_csv(\"Label Data-20230830T070214Z-001\\Label Data\\Label_000.csv\", header=None)"
   ]
  },
  {
   "cell_type": "code",
   "execution_count": 3,
   "id": "57163543",
   "metadata": {
    "scrolled": false
   },
   "outputs": [
    {
     "data": {
      "text/html": [
       "<div>\n",
       "<style scoped>\n",
       "    .dataframe tbody tr th:only-of-type {\n",
       "        vertical-align: middle;\n",
       "    }\n",
       "\n",
       "    .dataframe tbody tr th {\n",
       "        vertical-align: top;\n",
       "    }\n",
       "\n",
       "    .dataframe thead th {\n",
       "        text-align: right;\n",
       "    }\n",
       "</style>\n",
       "<table border=\"1\" class=\"dataframe\">\n",
       "  <thead>\n",
       "    <tr style=\"text-align: right;\">\n",
       "      <th></th>\n",
       "      <th>0</th>\n",
       "      <th>1</th>\n",
       "      <th>2</th>\n",
       "    </tr>\n",
       "  </thead>\n",
       "  <tbody>\n",
       "    <tr>\n",
       "      <th>0</th>\n",
       "      <td>2819.986311</td>\n",
       "      <td>2819.986311</td>\n",
       "      <td>Start to sleep</td>\n",
       "    </tr>\n",
       "    <tr>\n",
       "      <th>1</th>\n",
       "      <td>3041.878030</td>\n",
       "      <td>3045.269745</td>\n",
       "      <td>S1</td>\n",
       "    </tr>\n",
       "    <tr>\n",
       "      <th>2</th>\n",
       "      <td>3047.026899</td>\n",
       "      <td>3050.418614</td>\n",
       "      <td>S1</td>\n",
       "    </tr>\n",
       "    <tr>\n",
       "      <th>3</th>\n",
       "      <td>5039.720786</td>\n",
       "      <td>5043.194229</td>\n",
       "      <td>S1</td>\n",
       "    </tr>\n",
       "    <tr>\n",
       "      <th>4</th>\n",
       "      <td>5168.074725</td>\n",
       "      <td>5171.834216</td>\n",
       "      <td>S1</td>\n",
       "    </tr>\n",
       "    <tr>\n",
       "      <th>...</th>\n",
       "      <td>...</td>\n",
       "      <td>...</td>\n",
       "      <td>...</td>\n",
       "    </tr>\n",
       "    <tr>\n",
       "      <th>621</th>\n",
       "      <td>16433.840150</td>\n",
       "      <td>16437.191000</td>\n",
       "      <td>S1</td>\n",
       "    </tr>\n",
       "    <tr>\n",
       "      <th>622</th>\n",
       "      <td>16438.457780</td>\n",
       "      <td>16441.849500</td>\n",
       "      <td>S1</td>\n",
       "    </tr>\n",
       "    <tr>\n",
       "      <th>623</th>\n",
       "      <td>16496.893360</td>\n",
       "      <td>16500.080750</td>\n",
       "      <td>S1</td>\n",
       "    </tr>\n",
       "    <tr>\n",
       "      <th>624</th>\n",
       "      <td>16500.407660</td>\n",
       "      <td>16503.799380</td>\n",
       "      <td>S2</td>\n",
       "    </tr>\n",
       "    <tr>\n",
       "      <th>625</th>\n",
       "      <td>16504.534930</td>\n",
       "      <td>16507.640600</td>\n",
       "      <td>S1</td>\n",
       "    </tr>\n",
       "  </tbody>\n",
       "</table>\n",
       "<p>626 rows × 3 columns</p>\n",
       "</div>"
      ],
      "text/plain": [
       "                0             1               2\n",
       "0     2819.986311   2819.986311  Start to sleep\n",
       "1     3041.878030   3045.269745              S1\n",
       "2     3047.026899   3050.418614              S1\n",
       "3     5039.720786   5043.194229              S1\n",
       "4     5168.074725   5171.834216              S1\n",
       "..            ...           ...             ...\n",
       "621  16433.840150  16437.191000              S1\n",
       "622  16438.457780  16441.849500              S1\n",
       "623  16496.893360  16500.080750              S1\n",
       "624  16500.407660  16503.799380              S2\n",
       "625  16504.534930  16507.640600              S1\n",
       "\n",
       "[626 rows x 3 columns]"
      ]
     },
     "execution_count": 3,
     "metadata": {},
     "output_type": "execute_result"
    }
   ],
   "source": [
    "df0"
   ]
  },
  {
   "cell_type": "code",
   "execution_count": 4,
   "id": "dd04ef8e",
   "metadata": {},
   "outputs": [
    {
     "name": "stdout",
     "output_type": "stream",
     "text": [
      "       start_time      end_time           level  duration\n",
      "0     2819.986311   2819.986311  Start to sleep  0.000000\n",
      "1     3041.878030   3045.269745              S1  3.391715\n",
      "2     3047.026899   3050.418614              S1  3.391715\n",
      "3     5039.720786   5043.194229              S1  3.473443\n",
      "4     5168.074725   5171.834216              S1  3.759491\n",
      "..            ...           ...             ...       ...\n",
      "621  16433.840150  16437.191000              S1  3.350850\n",
      "622  16438.457780  16441.849500              S1  3.391720\n",
      "623  16496.893360  16500.080750              S1  3.187390\n",
      "624  16500.407660  16503.799380              S2  3.391720\n",
      "625  16504.534930  16507.640600              S1  3.105670\n",
      "\n",
      "[626 rows x 4 columns]\n"
     ]
    }
   ],
   "source": [
    "# Rename columns for clarity\n",
    "df0.columns = ['start_time', 'end_time', 'level']\n",
    "\n",
    "# Calculate duration\n",
    "df0['duration'] = df0['end_time'] - df0['start_time']\n",
    "\n",
    "# Display the updated DataFrame\n",
    "print(df0)"
   ]
  },
  {
   "cell_type": "markdown",
   "id": "56153dfd",
   "metadata": {},
   "source": [
    "### Combine Data from All label"
   ]
  },
  {
   "cell_type": "code",
   "execution_count": 5,
   "id": "a79b372c",
   "metadata": {},
   "outputs": [],
   "source": [
    "# Path to the folder containing CSV files\n",
    "folder_path = 'Label Data-20230830T070214Z-001\\Label Data'\n",
    "\n",
    "# List all CSV files in the folder\n",
    "csv_files = [f for f in os.listdir(folder_path) if f.endswith('.csv')]\n",
    "\n",
    "# Initialize an empty list to hold dataframes\n",
    "dfs = []\n",
    "\n",
    "# Loop through each CSV file and read it into a DataFrame\n",
    "for csv_file in csv_files:\n",
    "    file_path = os.path.join(folder_path, csv_file)\n",
    "    df = pd.read_csv(file_path, header=None)  # Assuming files don't have headers\n",
    "    dfs.append(df)\n",
    "\n",
    "# Concatenate all DataFrames into a single DataFrame\n",
    "combined_df = pd.concat(dfs, ignore_index=True)\n",
    "\n",
    "# Rename columns for clarity\n",
    "combined_df.columns = ['start_time', 'end_time', 'level']"
   ]
  },
  {
   "cell_type": "code",
   "execution_count": 6,
   "id": "db92ea5a",
   "metadata": {
    "scrolled": true
   },
   "outputs": [
    {
     "data": {
      "text/html": [
       "<div>\n",
       "<style scoped>\n",
       "    .dataframe tbody tr th:only-of-type {\n",
       "        vertical-align: middle;\n",
       "    }\n",
       "\n",
       "    .dataframe tbody tr th {\n",
       "        vertical-align: top;\n",
       "    }\n",
       "\n",
       "    .dataframe thead th {\n",
       "        text-align: right;\n",
       "    }\n",
       "</style>\n",
       "<table border=\"1\" class=\"dataframe\">\n",
       "  <thead>\n",
       "    <tr style=\"text-align: right;\">\n",
       "      <th></th>\n",
       "      <th>start_time</th>\n",
       "      <th>end_time</th>\n",
       "      <th>level</th>\n",
       "    </tr>\n",
       "  </thead>\n",
       "  <tbody>\n",
       "    <tr>\n",
       "      <th>1077</th>\n",
       "      <td>11563.983630</td>\n",
       "      <td>11567.312170</td>\n",
       "      <td>NaN</td>\n",
       "    </tr>\n",
       "    <tr>\n",
       "      <th>7137</th>\n",
       "      <td>8294.597318</td>\n",
       "      <td>8297.687159</td>\n",
       "      <td>NaN</td>\n",
       "    </tr>\n",
       "    <tr>\n",
       "      <th>9310</th>\n",
       "      <td>4109.494442</td>\n",
       "      <td>4112.727508</td>\n",
       "      <td>NaN</td>\n",
       "    </tr>\n",
       "  </tbody>\n",
       "</table>\n",
       "</div>"
      ],
      "text/plain": [
       "        start_time      end_time level\n",
       "1077  11563.983630  11567.312170   NaN\n",
       "7137   8294.597318   8297.687159   NaN\n",
       "9310   4109.494442   4112.727508   NaN"
      ]
     },
     "execution_count": 6,
     "metadata": {},
     "output_type": "execute_result"
    }
   ],
   "source": [
    "#Check Null values\n",
    "combined_df[combined_df.isnull().any(axis=1)]"
   ]
  },
  {
   "cell_type": "markdown",
   "id": "a428ad46",
   "metadata": {},
   "source": [
    "#### Data Cleaning"
   ]
  },
  {
   "cell_type": "code",
   "execution_count": 16,
   "id": "a3716648",
   "metadata": {},
   "outputs": [],
   "source": [
    "# Drop rows with null values\n",
    "combined_df.dropna(inplace=True)"
   ]
  },
  {
   "cell_type": "code",
   "execution_count": 17,
   "id": "a760bad4",
   "metadata": {},
   "outputs": [],
   "source": [
    "# Calculate duration\n",
    "combined_df['duration'] = combined_df['end_time'] - combined_df['start_time']"
   ]
  },
  {
   "cell_type": "code",
   "execution_count": 18,
   "id": "116410ca",
   "metadata": {},
   "outputs": [
    {
     "data": {
      "text/plain": [
       "array(['Start to sleep', 'S1', 'S2', 'S3', 'S1`', '1', 'S1  ', 'S!', '1S',\n",
       "       'W1', 'SS1', 'D1'], dtype=object)"
      ]
     },
     "execution_count": 18,
     "metadata": {},
     "output_type": "execute_result"
    }
   ],
   "source": [
    "# Get distinct levels\n",
    "combined_df['level'].unique()"
   ]
  },
  {
   "cell_type": "code",
   "execution_count": 19,
   "id": "b4e1c198",
   "metadata": {},
   "outputs": [],
   "source": [
    "#assigned to new dataframe before replace the level\n",
    "combined_df_new = combined_df.copy()"
   ]
  },
  {
   "cell_type": "code",
   "execution_count": 20,
   "id": "f07a6bdf",
   "metadata": {},
   "outputs": [],
   "source": [
    "# Replace typo levels with 'S1'\n",
    "typo_levels = ['1', 'S1`', 'S1  ','S!', '1S', 'W1', 'SS1', 'D1']\n",
    "correct_level = 'S1'\n",
    "\n",
    "combined_df_new['level'] = combined_df_new['level'].replace(typo_levels, correct_level)"
   ]
  },
  {
   "cell_type": "code",
   "execution_count": 21,
   "id": "150cb66e",
   "metadata": {},
   "outputs": [
    {
     "data": {
      "text/plain": [
       "array(['Start to sleep', 'S1', 'S2', 'S3'], dtype=object)"
      ]
     },
     "execution_count": 21,
     "metadata": {},
     "output_type": "execute_result"
    }
   ],
   "source": [
    "# Check distinct levels\n",
    "combined_df_new['level'].unique()"
   ]
  },
  {
   "cell_type": "code",
   "execution_count": 22,
   "id": "87a4e98e",
   "metadata": {
    "scrolled": false
   },
   "outputs": [
    {
     "data": {
      "text/html": [
       "<div>\n",
       "<style scoped>\n",
       "    .dataframe tbody tr th:only-of-type {\n",
       "        vertical-align: middle;\n",
       "    }\n",
       "\n",
       "    .dataframe tbody tr th {\n",
       "        vertical-align: top;\n",
       "    }\n",
       "\n",
       "    .dataframe thead th {\n",
       "        text-align: right;\n",
       "    }\n",
       "</style>\n",
       "<table border=\"1\" class=\"dataframe\">\n",
       "  <thead>\n",
       "    <tr style=\"text-align: right;\">\n",
       "      <th></th>\n",
       "      <th>start_time</th>\n",
       "      <th>end_time</th>\n",
       "      <th>level</th>\n",
       "      <th>duration</th>\n",
       "    </tr>\n",
       "  </thead>\n",
       "  <tbody>\n",
       "    <tr>\n",
       "      <th>0</th>\n",
       "      <td>2819.986311</td>\n",
       "      <td>2819.986311</td>\n",
       "      <td>Start to sleep</td>\n",
       "      <td>0.000000</td>\n",
       "    </tr>\n",
       "    <tr>\n",
       "      <th>1</th>\n",
       "      <td>3041.878030</td>\n",
       "      <td>3045.269745</td>\n",
       "      <td>S1</td>\n",
       "      <td>3.391715</td>\n",
       "    </tr>\n",
       "    <tr>\n",
       "      <th>2</th>\n",
       "      <td>3047.026899</td>\n",
       "      <td>3050.418614</td>\n",
       "      <td>S1</td>\n",
       "      <td>3.391715</td>\n",
       "    </tr>\n",
       "    <tr>\n",
       "      <th>3</th>\n",
       "      <td>5039.720786</td>\n",
       "      <td>5043.194229</td>\n",
       "      <td>S1</td>\n",
       "      <td>3.473443</td>\n",
       "    </tr>\n",
       "    <tr>\n",
       "      <th>4</th>\n",
       "      <td>5168.074725</td>\n",
       "      <td>5171.834216</td>\n",
       "      <td>S1</td>\n",
       "      <td>3.759491</td>\n",
       "    </tr>\n",
       "    <tr>\n",
       "      <th>...</th>\n",
       "      <td>...</td>\n",
       "      <td>...</td>\n",
       "      <td>...</td>\n",
       "      <td>...</td>\n",
       "    </tr>\n",
       "    <tr>\n",
       "      <th>19965</th>\n",
       "      <td>5961.521731</td>\n",
       "      <td>5964.509268</td>\n",
       "      <td>S1</td>\n",
       "      <td>2.987537</td>\n",
       "    </tr>\n",
       "    <tr>\n",
       "      <th>19966</th>\n",
       "      <td>5966.790660</td>\n",
       "      <td>5969.778197</td>\n",
       "      <td>S1</td>\n",
       "      <td>2.987537</td>\n",
       "    </tr>\n",
       "    <tr>\n",
       "      <th>19967</th>\n",
       "      <td>5971.407763</td>\n",
       "      <td>5974.395300</td>\n",
       "      <td>S1</td>\n",
       "      <td>2.987537</td>\n",
       "    </tr>\n",
       "    <tr>\n",
       "      <th>19968</th>\n",
       "      <td>5975.427358</td>\n",
       "      <td>5978.414895</td>\n",
       "      <td>S1</td>\n",
       "      <td>2.987537</td>\n",
       "    </tr>\n",
       "    <tr>\n",
       "      <th>19969</th>\n",
       "      <td>5979.338316</td>\n",
       "      <td>5982.325853</td>\n",
       "      <td>S2</td>\n",
       "      <td>2.987537</td>\n",
       "    </tr>\n",
       "  </tbody>\n",
       "</table>\n",
       "<p>19967 rows × 4 columns</p>\n",
       "</div>"
      ],
      "text/plain": [
       "        start_time     end_time           level  duration\n",
       "0      2819.986311  2819.986311  Start to sleep  0.000000\n",
       "1      3041.878030  3045.269745              S1  3.391715\n",
       "2      3047.026899  3050.418614              S1  3.391715\n",
       "3      5039.720786  5043.194229              S1  3.473443\n",
       "4      5168.074725  5171.834216              S1  3.759491\n",
       "...            ...          ...             ...       ...\n",
       "19965  5961.521731  5964.509268              S1  2.987537\n",
       "19966  5966.790660  5969.778197              S1  2.987537\n",
       "19967  5971.407763  5974.395300              S1  2.987537\n",
       "19968  5975.427358  5978.414895              S1  2.987537\n",
       "19969  5979.338316  5982.325853              S2  2.987537\n",
       "\n",
       "[19967 rows x 4 columns]"
      ]
     },
     "execution_count": 22,
     "metadata": {},
     "output_type": "execute_result"
    }
   ],
   "source": [
    "combined_df_new"
   ]
  },
  {
   "cell_type": "code",
   "execution_count": 42,
   "id": "6b4229dc",
   "metadata": {},
   "outputs": [
    {
     "name": "stdout",
     "output_type": "stream",
     "text": [
      "S1                18994\n",
      "S2                  865\n",
      "S3                   81\n",
      "Start to sleep       27\n",
      "Name: level, dtype: int64\n"
     ]
    }
   ],
   "source": [
    "#Print the count for each level\n",
    "level_count = combined_df_new['level'].value_counts()\n",
    "print(level_count)"
   ]
  },
  {
   "cell_type": "markdown",
   "id": "7520eb0f",
   "metadata": {},
   "source": [
    "#### load the data overview from the client"
   ]
  },
  {
   "cell_type": "code",
   "execution_count": 25,
   "id": "713b5531",
   "metadata": {},
   "outputs": [],
   "source": [
    "df_overview =pd.read_csv(\"Table.csv\")"
   ]
  },
  {
   "cell_type": "code",
   "execution_count": 27,
   "id": "ee386cad",
   "metadata": {},
   "outputs": [
    {
     "data": {
      "text/html": [
       "<div>\n",
       "<style scoped>\n",
       "    .dataframe tbody tr th:only-of-type {\n",
       "        vertical-align: middle;\n",
       "    }\n",
       "\n",
       "    .dataframe tbody tr th {\n",
       "        vertical-align: top;\n",
       "    }\n",
       "\n",
       "    .dataframe thead th {\n",
       "        text-align: right;\n",
       "    }\n",
       "</style>\n",
       "<table border=\"1\" class=\"dataframe\">\n",
       "  <thead>\n",
       "    <tr style=\"text-align: right;\">\n",
       "      <th></th>\n",
       "      <th>wave_file</th>\n",
       "      <th>label_file</th>\n",
       "      <th>sample_rate</th>\n",
       "      <th>sleep_start</th>\n",
       "      <th>max_duration</th>\n",
       "      <th>min_duration</th>\n",
       "      <th>avg_duration</th>\n",
       "      <th>total_duration</th>\n",
       "      <th>max_samplenum</th>\n",
       "      <th>min_samplenum</th>\n",
       "      <th>avg_samplenum</th>\n",
       "      <th>total_samplenum</th>\n",
       "      <th>count_data_instance</th>\n",
       "      <th>count_s1</th>\n",
       "      <th>count_s2</th>\n",
       "      <th>count_s3</th>\n",
       "    </tr>\n",
       "  </thead>\n",
       "  <tbody>\n",
       "    <tr>\n",
       "      <th>0</th>\n",
       "      <td>Video_00_039.wav</td>\n",
       "      <td>Label_039.csv</td>\n",
       "      <td>8000</td>\n",
       "      <td>300.039466</td>\n",
       "      <td>3.569243</td>\n",
       "      <td>2.958562</td>\n",
       "      <td>3.001892</td>\n",
       "      <td>381.240292</td>\n",
       "      <td>28553.9440</td>\n",
       "      <td>23668.4960</td>\n",
       "      <td>24015.13650</td>\n",
       "      <td>3.049922e+06</td>\n",
       "      <td>127</td>\n",
       "      <td>127</td>\n",
       "      <td>0</td>\n",
       "      <td>0</td>\n",
       "    </tr>\n",
       "    <tr>\n",
       "      <th>1</th>\n",
       "      <td>Video_00_044.wav</td>\n",
       "      <td>Label_044.csv</td>\n",
       "      <td>8000</td>\n",
       "      <td>540.064725</td>\n",
       "      <td>3.463639</td>\n",
       "      <td>2.952098</td>\n",
       "      <td>2.989290</td>\n",
       "      <td>547.040023</td>\n",
       "      <td>27709.1120</td>\n",
       "      <td>23616.7840</td>\n",
       "      <td>23914.31795</td>\n",
       "      <td>4.376320e+06</td>\n",
       "      <td>183</td>\n",
       "      <td>183</td>\n",
       "      <td>0</td>\n",
       "      <td>0</td>\n",
       "    </tr>\n",
       "    <tr>\n",
       "      <th>2</th>\n",
       "      <td>Video_00_049.wav</td>\n",
       "      <td>Label_049.csv</td>\n",
       "      <td>8000</td>\n",
       "      <td>299.968308</td>\n",
       "      <td>4.279418</td>\n",
       "      <td>2.810742</td>\n",
       "      <td>3.009516</td>\n",
       "      <td>4595.531213</td>\n",
       "      <td>34235.3440</td>\n",
       "      <td>22485.9360</td>\n",
       "      <td>24076.12947</td>\n",
       "      <td>3.676425e+07</td>\n",
       "      <td>1527</td>\n",
       "      <td>1527</td>\n",
       "      <td>0</td>\n",
       "      <td>0</td>\n",
       "    </tr>\n",
       "    <tr>\n",
       "      <th>3</th>\n",
       "      <td>Video_00_000.wav</td>\n",
       "      <td>Label_000.csv</td>\n",
       "      <td>44100</td>\n",
       "      <td>2819.986311</td>\n",
       "      <td>6.660838</td>\n",
       "      <td>2.451842</td>\n",
       "      <td>3.240931</td>\n",
       "      <td>2025.581895</td>\n",
       "      <td>293742.9558</td>\n",
       "      <td>108126.2322</td>\n",
       "      <td>142925.05850</td>\n",
       "      <td>8.932816e+07</td>\n",
       "      <td>625</td>\n",
       "      <td>605</td>\n",
       "      <td>20</td>\n",
       "      <td>0</td>\n",
       "    </tr>\n",
       "    <tr>\n",
       "      <th>4</th>\n",
       "      <td>Video_00_001.wav</td>\n",
       "      <td>Label_001.csv</td>\n",
       "      <td>8000</td>\n",
       "      <td>120.060280</td>\n",
       "      <td>3.747520</td>\n",
       "      <td>2.025057</td>\n",
       "      <td>3.080368</td>\n",
       "      <td>1654.157394</td>\n",
       "      <td>29980.1600</td>\n",
       "      <td>16200.4560</td>\n",
       "      <td>24642.94069</td>\n",
       "      <td>1.323326e+07</td>\n",
       "      <td>537</td>\n",
       "      <td>384</td>\n",
       "      <td>140</td>\n",
       "      <td>13</td>\n",
       "    </tr>\n",
       "  </tbody>\n",
       "</table>\n",
       "</div>"
      ],
      "text/plain": [
       "          wave_file     label_file  sample_rate  sleep_start  max_duration  \\\n",
       "0  Video_00_039.wav  Label_039.csv         8000   300.039466      3.569243   \n",
       "1  Video_00_044.wav  Label_044.csv         8000   540.064725      3.463639   \n",
       "2  Video_00_049.wav  Label_049.csv         8000   299.968308      4.279418   \n",
       "3  Video_00_000.wav  Label_000.csv        44100  2819.986311      6.660838   \n",
       "4  Video_00_001.wav  Label_001.csv         8000   120.060280      3.747520   \n",
       "\n",
       "   min_duration  avg_duration  total_duration  max_samplenum  min_samplenum  \\\n",
       "0      2.958562      3.001892      381.240292     28553.9440     23668.4960   \n",
       "1      2.952098      2.989290      547.040023     27709.1120     23616.7840   \n",
       "2      2.810742      3.009516     4595.531213     34235.3440     22485.9360   \n",
       "3      2.451842      3.240931     2025.581895    293742.9558    108126.2322   \n",
       "4      2.025057      3.080368     1654.157394     29980.1600     16200.4560   \n",
       "\n",
       "   avg_samplenum  total_samplenum  count_data_instance  count_s1  count_s2  \\\n",
       "0    24015.13650     3.049922e+06                  127       127         0   \n",
       "1    23914.31795     4.376320e+06                  183       183         0   \n",
       "2    24076.12947     3.676425e+07                 1527      1527         0   \n",
       "3   142925.05850     8.932816e+07                  625       605        20   \n",
       "4    24642.94069     1.323326e+07                  537       384       140   \n",
       "\n",
       "   count_s3  \n",
       "0         0  \n",
       "1         0  \n",
       "2         0  \n",
       "3         0  \n",
       "4        13  "
      ]
     },
     "execution_count": 27,
     "metadata": {},
     "output_type": "execute_result"
    }
   ],
   "source": [
    "df_overview.head()"
   ]
  },
  {
   "cell_type": "code",
   "execution_count": 40,
   "id": "1ca23eb6",
   "metadata": {},
   "outputs": [
    {
     "name": "stdout",
     "output_type": "stream",
     "text": [
      "Sum of 'count_s1': 11585\n",
      "Sum of 'count_s2': 851\n",
      "Sum of 'count_s3': 81\n"
     ]
    }
   ],
   "source": [
    "# Calculate the sum of each column and print the results\n",
    "sum_s1 = df_overview['count_s1'].sum()\n",
    "sum_s2 = df_overview['count_s2'].sum()\n",
    "sum_s3 = df_overview['count_s3'].sum()\n",
    "\n",
    "# Print the sums\n",
    "print(\"Sum of 'count_s1':\", sum_s1)\n",
    "print(\"Sum of 'count_s2':\", sum_s2)\n",
    "print(\"Sum of 'count_s3':\", sum_s3)"
   ]
  },
  {
   "cell_type": "code",
   "execution_count": 41,
   "id": "aad209c9",
   "metadata": {
    "scrolled": true
   },
   "outputs": [
    {
     "name": "stdout",
     "output_type": "stream",
     "text": [
      "S1                18994\n",
      "S2                  865\n",
      "S3                   81\n",
      "Start to sleep       27\n",
      "Name: level, dtype: int64\n"
     ]
    }
   ],
   "source": [
    "level_count = combined_df_new['level'].value_counts()\n",
    "print(level_count)"
   ]
  },
  {
   "cell_type": "code",
   "execution_count": 43,
   "id": "1f277ae8",
   "metadata": {},
   "outputs": [
    {
     "name": "stdout",
     "output_type": "stream",
     "text": [
      "S1                18984\n",
      "S2                  865\n",
      "S3                   81\n",
      "Start to sleep       27\n",
      "1                     2\n",
      "1S                    2\n",
      "S1`                   1\n",
      "S1                    1\n",
      "S!                    1\n",
      "W1                    1\n",
      "SS1                   1\n",
      "D1                    1\n",
      "Name: level, dtype: int64\n"
     ]
    }
   ],
   "source": [
    "level_count = combined_df['level'].value_counts()\n",
    "print(level_count)"
   ]
  },
  {
   "cell_type": "markdown",
   "id": "72c9f8e7",
   "metadata": {},
   "source": [
    "So after combined the data from each file, we have some typos for the level colum and we tried to convert it to S1 level. \n",
    "\n",
    "Then, We tried to count the level for all the files then compare it to the data overview from the client. There is a huge gap between total count s1 by the client overview data and our combined dataframe counts\n",
    "\n",
    "From the overview thetal is 11585\n",
    "Meanwhile our total after convert it is 18994\n",
    "Even if we drop the level that has typo, the count foro level S1 is 18984.\n",
    "\n",
    "So, we are actually not sure about which data that is dropped and counted by the client. But the next process, we are using the dataframe that the typo levels are converted.\n"
   ]
  },
  {
   "cell_type": "markdown",
   "id": "cca00dba",
   "metadata": {},
   "source": [
    "### Data Cleaning and Output for each file for the next process"
   ]
  },
  {
   "cell_type": "markdown",
   "id": "3828cbea",
   "metadata": {},
   "source": [
    "We are doing the data cleaning and convert the level for each file"
   ]
  },
  {
   "cell_type": "code",
   "execution_count": 59,
   "id": "7e8a6d71",
   "metadata": {},
   "outputs": [],
   "source": [
    "output_folder = 'Cleaned Data'"
   ]
  },
  {
   "cell_type": "code",
   "execution_count": 62,
   "id": "10926f29",
   "metadata": {},
   "outputs": [],
   "source": [
    "# List all CSV files in the folder\n",
    "csv_files = [f for f in os.listdir(folder_path) if f.endswith('.csv')]\n",
    "\n",
    "# Initialize an empty list to hold dataframes\n",
    "dfs = []\n",
    "\n",
    "# Loop through each CSV file, clean and preprocess the data, and save a new output file\n",
    "for csv_file in csv_files:\n",
    "    file_path = os.path.join(folder_path, csv_file)\n",
    "    \n",
    "    # Read the CSV file into a DataFrame\n",
    "    df = pd.read_csv(file_path, header=None)  # Assuming files don't have headers\n",
    "    \n",
    "    # Perform data cleaning and preprocessing as needed\n",
    "    \n",
    "    # Drop rows with null values\n",
    "    df.dropna(inplace=True)\n",
    "    \n",
    "    # Replace typo levels with 'S1'\n",
    "    typo_levels = ['1', 'S1`', 'S1  ', 'S!', '1S', 'W1', 'SS1', 'D1']\n",
    "    correct_level = 'S1'\n",
    "    df[2] = df[2].replace(typo_levels, correct_level)\n",
    "    \n",
    "    # Calculate duration\n",
    "    df['duration'] = df[1] - df[0]\n",
    "    \n",
    "    # Add headers to the DataFrame\n",
    "    df.columns = ['start_time', 'end_time', 'level', 'duration']\n",
    "    \n",
    "    # Save the cleaned and processed DataFrame to a new output file\n",
    "    output_file = f\"{csv_file}\" \n",
    "    output_path = os.path.join(output_folder, output_file)\n",
    "    df.to_csv(output_path, index=False)\n"
   ]
  },
  {
   "cell_type": "markdown",
   "id": "a2be94ca",
   "metadata": {},
   "source": [
    "#### Descriptive Statistic"
   ]
  },
  {
   "cell_type": "code",
   "execution_count": 44,
   "id": "173bf60a",
   "metadata": {
    "scrolled": true
   },
   "outputs": [
    {
     "data": {
      "text/html": [
       "<div>\n",
       "<style scoped>\n",
       "    .dataframe tbody tr th:only-of-type {\n",
       "        vertical-align: middle;\n",
       "    }\n",
       "\n",
       "    .dataframe tbody tr th {\n",
       "        vertical-align: top;\n",
       "    }\n",
       "\n",
       "    .dataframe thead th {\n",
       "        text-align: right;\n",
       "    }\n",
       "</style>\n",
       "<table border=\"1\" class=\"dataframe\">\n",
       "  <thead>\n",
       "    <tr style=\"text-align: right;\">\n",
       "      <th></th>\n",
       "      <th>count</th>\n",
       "      <th>mean</th>\n",
       "      <th>std</th>\n",
       "      <th>min</th>\n",
       "      <th>25%</th>\n",
       "      <th>50%</th>\n",
       "      <th>75%</th>\n",
       "      <th>max</th>\n",
       "    </tr>\n",
       "    <tr>\n",
       "      <th>level</th>\n",
       "      <th></th>\n",
       "      <th></th>\n",
       "      <th></th>\n",
       "      <th></th>\n",
       "      <th></th>\n",
       "      <th></th>\n",
       "      <th></th>\n",
       "      <th></th>\n",
       "    </tr>\n",
       "  </thead>\n",
       "  <tbody>\n",
       "    <tr>\n",
       "      <th>S1</th>\n",
       "      <td>18994.0</td>\n",
       "      <td>3.076666</td>\n",
       "      <td>0.164908</td>\n",
       "      <td>1.955867</td>\n",
       "      <td>2.981100</td>\n",
       "      <td>3.013320</td>\n",
       "      <td>3.146530</td>\n",
       "      <td>6.66084</td>\n",
       "    </tr>\n",
       "    <tr>\n",
       "      <th>S2</th>\n",
       "      <td>865.0</td>\n",
       "      <td>3.086015</td>\n",
       "      <td>0.280219</td>\n",
       "      <td>1.531702</td>\n",
       "      <td>2.987537</td>\n",
       "      <td>3.079320</td>\n",
       "      <td>3.256300</td>\n",
       "      <td>4.10577</td>\n",
       "    </tr>\n",
       "    <tr>\n",
       "      <th>S3</th>\n",
       "      <td>81.0</td>\n",
       "      <td>2.978206</td>\n",
       "      <td>0.229648</td>\n",
       "      <td>2.281098</td>\n",
       "      <td>2.898452</td>\n",
       "      <td>2.987537</td>\n",
       "      <td>3.049224</td>\n",
       "      <td>3.61025</td>\n",
       "    </tr>\n",
       "    <tr>\n",
       "      <th>Start to sleep</th>\n",
       "      <td>27.0</td>\n",
       "      <td>0.000000</td>\n",
       "      <td>0.000000</td>\n",
       "      <td>0.000000</td>\n",
       "      <td>0.000000</td>\n",
       "      <td>0.000000</td>\n",
       "      <td>0.000000</td>\n",
       "      <td>0.00000</td>\n",
       "    </tr>\n",
       "  </tbody>\n",
       "</table>\n",
       "</div>"
      ],
      "text/plain": [
       "                  count      mean       std       min       25%       50%  \\\n",
       "level                                                                       \n",
       "S1              18994.0  3.076666  0.164908  1.955867  2.981100  3.013320   \n",
       "S2                865.0  3.086015  0.280219  1.531702  2.987537  3.079320   \n",
       "S3                 81.0  2.978206  0.229648  2.281098  2.898452  2.987537   \n",
       "Start to sleep     27.0  0.000000  0.000000  0.000000  0.000000  0.000000   \n",
       "\n",
       "                     75%      max  \n",
       "level                              \n",
       "S1              3.146530  6.66084  \n",
       "S2              3.256300  4.10577  \n",
       "S3              3.049224  3.61025  \n",
       "Start to sleep  0.000000  0.00000  "
      ]
     },
     "execution_count": 44,
     "metadata": {},
     "output_type": "execute_result"
    }
   ],
   "source": [
    "# Group data by level and calculate average duration\n",
    "combined_df_new.groupby('level')['duration'].describe()"
   ]
  },
  {
   "cell_type": "code",
   "execution_count": 45,
   "id": "450fd821",
   "metadata": {},
   "outputs": [],
   "source": [
    "#drop the start to sleep level\n",
    "combined_df_new1 = combined_df_new[combined_df_new['level'] != 'Start to sleep']"
   ]
  },
  {
   "cell_type": "code",
   "execution_count": 48,
   "id": "7991b07d",
   "metadata": {
    "scrolled": false
   },
   "outputs": [
    {
     "data": {
      "image/png": "[encoded data removed]",
      "text/plain": [
       "<Figure size 800x500 with 1 Axes>"
      ]
     },
     "metadata": {},
     "output_type": "display_data"
    }
   ],
   "source": [
    "# Create a count plot of snoring levels without 'Start to sleep'\n",
    "\n",
    "plt.figure(figsize=(8, 5))\n",
    "ax = sns.countplot(data=combined_df_new1, x='level', color='skyblue', order=combined_df_new1['level'].value_counts().index)\n",
    "plt.xlabel('Snoring Level')\n",
    "plt.ylabel('Count')\n",
    "plt.title('Count of Snoring Levels')\n",
    "plt.xticks(rotation=45)  # Rotate x-axis labels for better visibility\n",
    "\n",
    "# Add count labels above the bars\n",
    "for p in ax.patches:\n",
    "    ax.annotate(f'{p.get_height()}', (p.get_x() + p.get_width() / 2., p.get_height()), ha='center', va='baseline')\n",
    "    \n",
    "plt.tight_layout()\n",
    "plt.show()"
   ]
  },
  {
   "cell_type": "code",
   "execution_count": 49,
   "id": "84663bb6",
   "metadata": {},
   "outputs": [
    {
     "data": {
      "image/png": "[encoded data removed]",
      "text/plain": [
       "<Figure size 1000x600 with 1 Axes>"
      ]
     },
     "metadata": {},
     "output_type": "display_data"
    }
   ],
   "source": [
    "# Create a boxplot of snoring duration for each snoring level\n",
    "plt.figure(figsize=(10, 6))\n",
    "sns.set_style(\"whitegrid\")\n",
    "ax = sns.boxplot(data=combined_df_new1, x='level', y='duration', order=combined_df_new1['level'].value_counts().index)\n",
    "plt.xlabel('Snoring Level')\n",
    "plt.ylabel('Duration (seconds)')\n",
    "plt.title('Boxplot of Snoring Duration by Level')\n",
    "plt.xticks(rotation=45)  # Rotate x-axis labels for better visibility\n",
    "plt.show()"
   ]
  }
 ],
 "metadata": {
  "kernelspec": {
   "display_name": "Python 3 (ipykernel)",
   "language": "python",
   "name": "python3"
  },
  "language_info": {
   "codemirror_mode": {
    "name": "ipython",
    "version": 3
   },
   "file_extension": ".py",
   "mimetype": "text/x-python",
   "name": "python",
   "nbconvert_exporter": "python",
   "pygments_lexer": "ipython3",
   "version": "3.10.9"
  }
 },
 "nbformat": 4,
 "nbformat_minor": 5
}
