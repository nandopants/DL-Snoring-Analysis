{
 "cells": [
  {
   "cell_type": "code",
   "execution_count": 147,
   "id": "5f3a772f",
   "metadata": {},
   "outputs": [],
   "source": [
    "import os\n",
    "#suppress TensorFlow's log messages\n",
    "os.environ['TF_CPP_MIN_LOG_LEVEL'] = '3'\n",
    "import numpy as np\n",
    "from tensorflow.keras.models import load_model\n",
    "import matplotlib.pyplot as plt\n",
    "import joblib\n",
    "import xgboost as xgb\n",
    "from sklearn.metrics import accuracy_score, precision_score, recall_score, f1_score\n",
    "import pandas as pd"
   ]
  },
  {
   "cell_type": "markdown",
   "id": "6395989a",
   "metadata": {},
   "source": [
    "# Data Preprocssing Summary"
   ]
  },
  {
   "cell_type": "markdown",
   "id": "f42df3e2",
   "metadata": {},
   "source": [
    "All WAV files underwent a resampling process to ensure a uniform sample rate of 16,000 Hz. In the feature extraction phase, we computed 13 Mel-Frequency Cepstral Coefficients (MFCCs) using window sizes of 50ms, 100ms, and 500ms, with a 50% overlap to facilitate smooth transitions between adjacent frames. Experiments were performed on all the window sizes and empirically determined the window size of 100ms delivering the best results.\n",
    "\n",
    "To address the challenge of varying MFCC sequence lengths across audio segments, we adopted a standardized approach. Shorter segments were padded with zero values while longer segments were truncated to align with the average length of snoring moments. \n",
    "\n",
    "For machine learning models, we computed the mean and standard deviation (SD) of the values for each of the 13 MFCC coefficients across all frames. During model training and testing, we experimented with two feature sets: one utilizing the mean values alone and another incorporating both the mean and standard deviation (SD) data for each MFCC coefficient. Notably, the inclusion of both mean and SD data yielded superior results in our evaluations, indicating the advantage of utilizing this combined feature set for model training and classification."
   ]
  },
  {
   "cell_type": "markdown",
   "id": "139f7965",
   "metadata": {},
   "source": [
    "# Binary Classification\n",
    "For the binary classification task of distinguishing between snoring and non-snoring moments, we assigned the label \"0\" to all non-snoring moments and the label \"1\" to snoring moments with varying intensities, denoted as \"S1,\" \"S2,\" and \"S3.\"\n",
    "\n",
    "We conducted experiments using a range of machine learning and deep learning methods, including three traditional machine learning algorithms: Linear Regression, Support Vector Machine (SVM), and XGBoost; and four deep learning architectures: Convolutional Neural Network (CNN), CNN with Long Short-Term Memory (LSTM) layer, Transformer, and Conformer.\n",
    "\n",
    "These models were trained and thier performances are compared in the sections below:"
   ]
  },
  {
   "cell_type": "markdown",
   "id": "372332f3",
   "metadata": {},
   "source": [
    "## 1. Load the ML Models and Corresponding Test Data.\n",
    "\n",
    "The trained models and test data has been saved in appropriate format and are loaded in the following sections to perform prediction."
   ]
  },
  {
   "cell_type": "markdown",
   "id": "dfbbaace",
   "metadata": {},
   "source": [
    "### 1.1 XGBOOST"
   ]
  },
  {
   "cell_type": "code",
   "execution_count": 226,
   "id": "aa03e9ca",
   "metadata": {},
   "outputs": [],
   "source": [
    "ml_test_data=np.load('ml/2 classes/ml_test_data_2_100.npy', allow_pickle=True).item()\n",
    "X_test_ml = ml_test_data['X_test']\n",
    "y_test_ml = ml_test_data['y_test']"
   ]
  },
  {
   "cell_type": "code",
   "execution_count": 227,
   "id": "43e8aadc",
   "metadata": {},
   "outputs": [],
   "source": [
    "#Load XGBoost Model\n",
    "xgboost_model = joblib.load('ml/2 classes/ml_2_100.sav')\n",
    "y_test_pred_xg=xgboost_model.predict(X_test_ml)"
   ]
  },
  {
   "cell_type": "code",
   "execution_count": 236,
   "id": "2bc8274b",
   "metadata": {},
   "outputs": [],
   "source": [
    "def calculate_accuracies(y_true,y_pred):\n",
    "    accuracy = accuracy_score(y_true, y_pred)\n",
    "    precision = precision_score(y_true, y_pred, average='weighted')\n",
    "    recall = recall_score(y_true, y_pred, average='weighted')\n",
    "    f1 = f1_score(y_true, y_pred, average='weighted')\n",
    "    return accuracy, precision,recall,f1"
   ]
  },
  {
   "cell_type": "code",
   "execution_count": 237,
   "id": "285b362d",
   "metadata": {},
   "outputs": [],
   "source": [
    "xg_accuracy, xg_precision, xg_recall,xg_f1_score=calculate_accuracies(y_test_ml,y_test_pred_xg)"
   ]
  },
  {
   "cell_type": "markdown",
   "id": "880068d2",
   "metadata": {},
   "source": [
    "### 1.2 Support Vector Machine"
   ]
  },
  {
   "cell_type": "code",
   "execution_count": 231,
   "id": "f56a1fe6",
   "metadata": {},
   "outputs": [],
   "source": [
    "ml_test_data=np.load('ml/50 ms/ml_test_data_mean_50.npy', allow_pickle=True).item()\n",
    "X_test_ml = ml_test_data['X_test']\n",
    "y_test_ml = ml_test_data['y_test']"
   ]
  },
  {
   "cell_type": "code",
   "execution_count": 232,
   "id": "3bd56702",
   "metadata": {},
   "outputs": [
    {
     "name": "stderr",
     "output_type": "stream",
     "text": [
      "/Users/ddcbhutan/miniconda3/envs/cits5017-2023/lib/python3.11/site-packages/sklearn/base.py:347: InconsistentVersionWarning: Trying to unpickle estimator LinearSVC from version 1.2.1 when using version 1.3.0. This might lead to breaking code or invalid results. Use at your own risk. For more info please refer to:\n",
      "https://scikit-learn.org/stable/model_persistence.html#security-maintainability-limitations\n",
      "  warnings.warn(\n"
     ]
    }
   ],
   "source": [
    "svm_model = joblib.load('ml/50 ms/ml_svm_mean_50.sav')\n",
    "y_test_pred_svm=svm_model.predict(X_test_ml)"
   ]
  },
  {
   "cell_type": "code",
   "execution_count": 238,
   "id": "32b3042f",
   "metadata": {},
   "outputs": [],
   "source": [
    "svm_accuracy, svm_precision, svm_recall,svm_f1_score=calculate_accuracies(y_test_ml,y_test_pred_svm)"
   ]
  },
  {
   "cell_type": "markdown",
   "id": "6267aa90",
   "metadata": {},
   "source": [
    "### 1.3 Linear Regression Model"
   ]
  },
  {
   "cell_type": "code",
   "execution_count": 234,
   "id": "e51c0baa",
   "metadata": {},
   "outputs": [
    {
     "name": "stderr",
     "output_type": "stream",
     "text": [
      "/Users/ddcbhutan/miniconda3/envs/cits5017-2023/lib/python3.11/site-packages/sklearn/base.py:347: InconsistentVersionWarning: Trying to unpickle estimator LogisticRegression from version 1.2.1 when using version 1.3.0. This might lead to breaking code or invalid results. Use at your own risk. For more info please refer to:\n",
      "https://scikit-learn.org/stable/model_persistence.html#security-maintainability-limitations\n",
      "  warnings.warn(\n"
     ]
    }
   ],
   "source": [
    "lr_model = joblib.load('ml/50 ms/ml_lr1_mean_50.sav')\n",
    "y_test_pred_lr=lr_model.predict(X_test_ml)"
   ]
  },
  {
   "cell_type": "code",
   "execution_count": 239,
   "id": "26ede951",
   "metadata": {},
   "outputs": [],
   "source": [
    "lr_accuracy, lr_precision, lr_recall,lr_f1_score=calculate_accuracies(y_test_ml,y_test_pred_lr)"
   ]
  },
  {
   "cell_type": "markdown",
   "id": "fcb7ce95",
   "metadata": {},
   "source": [
    "# 2. Load Deep Learning Models"
   ]
  },
  {
   "cell_type": "markdown",
   "id": "75ec7c0e",
   "metadata": {},
   "source": [
    "### 2.1  CNN model"
   ]
  },
  {
   "cell_type": "code",
   "execution_count": 106,
   "id": "b31882b5",
   "metadata": {},
   "outputs": [],
   "source": [
    "cnn_test_data = np.load('cnn_lstm_test_data.npy', allow_pickle=True).item()\n",
    "X_test_cnn = cnn_test_data['X_test']\n",
    "y_test_cnn = cnn_test_data['y_test']"
   ]
  },
  {
   "cell_type": "code",
   "execution_count": 110,
   "id": "4ad7467d",
   "metadata": {},
   "outputs": [],
   "source": [
    "# binary\n",
    "cnn_model=load_model(\"bin_cnn_model\")\n",
    "y_test_pred_cnn= cnn_model.predict(X_test_cnn)\n",
    "y_test_pred_cnn = (y_test_pred_cnn >= 0.5).astype(int)"
   ]
  },
  {
   "cell_type": "code",
   "execution_count": 112,
   "id": "535d8b10",
   "metadata": {},
   "outputs": [],
   "source": [
    "cnn_accuracy, cnn_precision, cnn_recall,cnn_f1_score=calculate_accuracies(y_test_cnn,y_test_pred_cnn)"
   ]
  },
  {
   "cell_type": "markdown",
   "id": "4b393b8f",
   "metadata": {},
   "source": [
    "### 2.2. CNN + LSTM model"
   ]
  },
  {
   "cell_type": "code",
   "execution_count": 115,
   "id": "4ec066d4",
   "metadata": {},
   "outputs": [],
   "source": [
    "cnn_lstm_model=load_model(\"bin_cnn_lstm\")"
   ]
  },
  {
   "cell_type": "code",
   "execution_count": 116,
   "id": "8bd57dde",
   "metadata": {},
   "outputs": [
    {
     "name": "stdout",
     "output_type": "stream",
     "text": [
      "240/240 [==============================] - 3s 9ms/step\n"
     ]
    }
   ],
   "source": [
    "y_test_pred_cnn_lstm= cnn_lstm_model.predict(X_test_cnn)\n",
    "y_test_pred_cnn_lstm = (y_test_pred_cnn_lstm >= 0.5).astype(int)"
   ]
  },
  {
   "cell_type": "code",
   "execution_count": 118,
   "id": "656cb52a",
   "metadata": {},
   "outputs": [],
   "source": [
    "cnnlstm_accuracy, cnnlstm_precision, cnnlstm_recall,cnnlstm_f1_score=calculate_accuracies(y_test_cnn,y_test_pred_cnn_lstm)"
   ]
  },
  {
   "cell_type": "markdown",
   "id": "e39e78e3",
   "metadata": {},
   "source": [
    "### 2.3 Transformer models"
   ]
  },
  {
   "cell_type": "code",
   "execution_count": 121,
   "id": "76497522",
   "metadata": {},
   "outputs": [],
   "source": [
    "X_test_tc = np.load('X_test_100.npy')\n",
    "y_test_tc = np.load('y_test_100_B.npy')"
   ]
  },
  {
   "cell_type": "code",
   "execution_count": 123,
   "id": "a21fc7dd",
   "metadata": {},
   "outputs": [
    {
     "name": "stdout",
     "output_type": "stream",
     "text": [
      "240/240 [==============================] - 3s 13ms/step\n"
     ]
    }
   ],
   "source": [
    "transformer_model=load_model(\"Transformer_Model\")\n",
    "y_test_pred_trans= transformer_model.predict(X_test_tc[:,:,:-1])\n",
    "y_test_pred_trans = (y_test_pred_trans >= 0.5).astype(int)"
   ]
  },
  {
   "cell_type": "code",
   "execution_count": 145,
   "id": "3cdd9a5d",
   "metadata": {},
   "outputs": [],
   "source": [
    "trans_accuracy, trans_precision, trans_recall,trans_f1_score=calculate_accuracies(y_test_tc,y_test_pred_trans)"
   ]
  },
  {
   "cell_type": "markdown",
   "id": "1fd5e46b",
   "metadata": {},
   "source": [
    "### 2.5 Conformer Model"
   ]
  },
  {
   "cell_type": "code",
   "execution_count": 124,
   "id": "44dfe450",
   "metadata": {},
   "outputs": [
    {
     "name": "stdout",
     "output_type": "stream",
     "text": [
      "240/240 [==============================] - 4s 14ms/step\n"
     ]
    }
   ],
   "source": [
    "conformer_model=load_model(\"conformer_Model\")\n",
    "y_test_pred_con= conformer_model.predict(X_test_tc[:,:,:-1])\n",
    "y_test_pred_con = (y_test_pred_con >= 0.5).astype(int)"
   ]
  },
  {
   "cell_type": "code",
   "execution_count": 125,
   "id": "6b6f40ff",
   "metadata": {},
   "outputs": [],
   "source": [
    "con_accuracy, con_precision, con_recall, con_f1_score=calculate_accuracies(y_test_tc,y_test_pred_con)"
   ]
  },
  {
   "cell_type": "markdown",
   "id": "42580cc0",
   "metadata": {},
   "source": [
    "# 3 Compare Performances :\n",
    "compare accuracies of different models \n"
   ]
  },
  {
   "cell_type": "code",
   "execution_count": 240,
   "id": "bfad692d",
   "metadata": {},
   "outputs": [
    {
     "data": {
      "text/html": [
       "<div>\n",
       "<style scoped>\n",
       "    .dataframe tbody tr th:only-of-type {\n",
       "        vertical-align: middle;\n",
       "    }\n",
       "\n",
       "    .dataframe tbody tr th {\n",
       "        vertical-align: top;\n",
       "    }\n",
       "\n",
       "    .dataframe thead th {\n",
       "        text-align: right;\n",
       "    }\n",
       "</style>\n",
       "<table border=\"1\" class=\"dataframe\">\n",
       "  <thead>\n",
       "    <tr style=\"text-align: right;\">\n",
       "      <th></th>\n",
       "      <th>Model</th>\n",
       "      <th>Accuracy</th>\n",
       "      <th>Precision</th>\n",
       "      <th>Recall</th>\n",
       "      <th>F1 Score</th>\n",
       "    </tr>\n",
       "  </thead>\n",
       "  <tbody>\n",
       "    <tr>\n",
       "      <th>0</th>\n",
       "      <td>XGboost</td>\n",
       "      <td>95.55%</td>\n",
       "      <td>95.56%</td>\n",
       "      <td>95.55%</td>\n",
       "      <td>95.54%</td>\n",
       "    </tr>\n",
       "    <tr>\n",
       "      <th>1</th>\n",
       "      <td>SVM</td>\n",
       "      <td>81.56%</td>\n",
       "      <td>81.60%</td>\n",
       "      <td>81.56%</td>\n",
       "      <td>81.53%</td>\n",
       "    </tr>\n",
       "    <tr>\n",
       "      <th>2</th>\n",
       "      <td>LR</td>\n",
       "      <td>83.19%</td>\n",
       "      <td>83.19%</td>\n",
       "      <td>83.19%</td>\n",
       "      <td>83.18%</td>\n",
       "    </tr>\n",
       "    <tr>\n",
       "      <th>3</th>\n",
       "      <td>CNN</td>\n",
       "      <td>97.73%</td>\n",
       "      <td>97.63%</td>\n",
       "      <td>97.97%</td>\n",
       "      <td>97.80%</td>\n",
       "    </tr>\n",
       "    <tr>\n",
       "      <th>4</th>\n",
       "      <td>CNN+LSTM</td>\n",
       "      <td>96.64%</td>\n",
       "      <td>96.83%</td>\n",
       "      <td>96.63%</td>\n",
       "      <td>96.73%</td>\n",
       "    </tr>\n",
       "    <tr>\n",
       "      <th>5</th>\n",
       "      <td>Transformer</td>\n",
       "      <td>97.38%</td>\n",
       "      <td>96.93%</td>\n",
       "      <td>98.07%</td>\n",
       "      <td>97.49%</td>\n",
       "    </tr>\n",
       "    <tr>\n",
       "      <th>6</th>\n",
       "      <td>Conformer</td>\n",
       "      <td>97.56%</td>\n",
       "      <td>97.48%</td>\n",
       "      <td>97.84%</td>\n",
       "      <td>97.66%</td>\n",
       "    </tr>\n",
       "  </tbody>\n",
       "</table>\n",
       "</div>"
      ],
      "text/plain": [
       "         Model Accuracy Precision  Recall F1 Score\n",
       "0      XGboost   95.55%    95.56%  95.55%   95.54%\n",
       "1          SVM   81.56%    81.60%  81.56%   81.53%\n",
       "2           LR   83.19%    83.19%  83.19%   83.18%\n",
       "3          CNN   97.73%    97.63%  97.97%   97.80%\n",
       "4     CNN+LSTM   96.64%    96.83%  96.63%   96.73%\n",
       "5  Transformer   97.38%    96.93%  98.07%   97.49%\n",
       "6    Conformer   97.56%    97.48%  97.84%   97.66%"
      ]
     },
     "execution_count": 240,
     "metadata": {},
     "output_type": "execute_result"
    }
   ],
   "source": [
    "performance_metrics = {\n",
    "    \"Model\": [\"XGboost\", \"SVM\", \"LR\", \"CNN\", \"CNN+LSTM\", \"Transformer\", \"Conformer\"],\n",
    "    \"Accuracy\": [f\"{xg_accuracy:.2%}\", f\"{svm_accuracy:.2%}\", f\"{lr_accuracy:.2%}\",f\"{cnn_accuracy:.2%}\", f\"{cnnlstm_accuracy:.2%}\", f\"{trans_accuracy:.2%}\", f\"{con_accuracy:.2%}\"],\n",
    "    \"Precision\": [f\"{xg_precision:.2%}\", f\"{svm_precision:.2%}\", f\"{lr_precision:.2%}\", f\"{cnn_precision:.2%}\", f\"{cnnlstm_precision:.2%}\", f\"{trans_precision:.2%}\", f\"{con_precision:.2%}\"],\n",
    "    \"Recall\": [f\"{xg_recall:.2%}\", f\"{svm_recall:.2%}\", f\"{lr_recall:.2%}\", f\"{cnn_recall:.2%}\", f\"{cnnlstm_recall:.2%}\", f\"{trans_recall:.2%}\", f\"{con_recall:.2%}\"],\n",
    "    \"F1 Score\": [f\"{xg_f1_score:.2%}\", f\"{svm_f1_score:.2%}\", f\"{lr_f1_score:.2%}\", f\"{cnn_f1_score:.2%}\", f\"{cnnlstm_f1_score:.2%}\", f\"{trans_f1_score:.2%}\", f\"{con_f1_score:.2%}\"]\n",
    "}\n",
    "\n",
    "performance_metrics_df = pd.DataFrame(performance_metrics)\n",
    "performance_metrics_df"
   ]
  },
  {
   "cell_type": "markdown",
   "id": "e12c5aae",
   "metadata": {},
   "source": [
    "The XGBoost model emerged as the best Machine Learning (ML) model, achieving an accuracy of 95.55% and maintaining a well-balanced precision, recall, and F1 Score. It showcases strong classification capabilities and accuracy in distinguishing snoring moments.\n",
    "\n",
    "Among the Deep Learning (DL) models, the CNN model demonstrated the highest accuracy at 97.73% and recall of 97.97%. This makes it the top choice for deep learning-based snoring moment detection.\n"
   ]
  },
  {
   "cell_type": "markdown",
   "id": "f18340ec",
   "metadata": {},
   "source": [
    "## 4 Compare Best ML and Best DL Modles\n",
    "From here on, comparisons are carried out only between the best ML model and the best DL model"
   ]
  },
  {
   "cell_type": "markdown",
   "id": "93e30e77",
   "metadata": {},
   "source": [
    "### 4.1 Performance Metrics Comparison"
   ]
  },
  {
   "cell_type": "code",
   "execution_count": 201,
   "id": "0da4dc59",
   "metadata": {},
   "outputs": [
    {
     "data": {
      "text/plain": [
       "<Figure size 1000x600 with 0 Axes>"
      ]
     },
     "metadata": {},
     "output_type": "display_data"
    },
    {
     "data": {
      "image/png": "[encoded data removed]",
      "text/plain": [
       "<Figure size 640x480 with 1 Axes>"
      ]
     },
     "metadata": {},
     "output_type": "display_data"
    }
   ],
   "source": [
    "performance_metrics = {\n",
    "    \"Model\": [\"XGboost\", \"CNN\"],\n",
    "    \"Accuracy\": [xg_accuracy, cnn_accuracy],\n",
    "    \"Precision\": [xg_precision, cnn_precision],\n",
    "    \"Recall\": [xg_recall, cnn_recall],\n",
    "    \"F1 Score\": [xg_f1_score, cnn_f1_score]\n",
    "}\n",
    "\n",
    "performance_metrics_df = pd.DataFrame(performance_metrics)\n",
    "\n",
    "colors = ['b', 'g']\n",
    "plt.figure(figsize=(10, 6))\n",
    "ax = performance_metrics_df.set_index('Model').T.plot(kind='bar', color=colors)\n",
    "plt.xlabel('Performance Metrics')\n",
    "plt.ylabel('Values')\n",
    "plt.title('Performance Metrics Comparison')\n",
    "ax.legend(title='Model', loc=(0.85, 0.85))\n",
    "for container in ax.containers:\n",
    "    ax.bar_label(container, fmt='%0.2f', label_type='center', fontsize=10, color='white')\n",
    "\n",
    "plt.tight_layout()\n",
    "plt.show()\n"
   ]
  },
  {
   "cell_type": "markdown",
   "id": "1bd7849f",
   "metadata": {},
   "source": [
    "he DL model consistently outperforms the ML model across all performance metrics."
   ]
  },
  {
   "cell_type": "markdown",
   "id": "f56670fd",
   "metadata": {},
   "source": [
    "## 4.2 Confusion Matrix:\n",
    "\n",
    "plot confusion matrices of all the models here"
   ]
  },
  {
   "cell_type": "code",
   "execution_count": 165,
   "id": "a1f79ad0",
   "metadata": {},
   "outputs": [],
   "source": [
    "from sklearn.metrics import confusion_matrix, ConfusionMatrixDisplay\n",
    "def print_conf_matrix(y_ml, y_ml_pred, y_dl, y_dl_pred, class_names):\n",
    "    fig, axs = plt.subplots(nrows=1, ncols=2, figsize=(12, 10))\n",
    "    plt.rc('font', size=9)\n",
    "    ConfusionMatrixDisplay.from_predictions(y_ml, y_ml_pred, ax=axs[0], display_labels=class_names).im_.colorbar.remove()\n",
    "    axs[0].set_title(\"ML (XGBoost) \")\n",
    "    axs[0].tick_params(axis='x', labelrotation=90)\n",
    "    plt.rc('font', size=9)\n",
    "    ConfusionMatrixDisplay.from_predictions(y_dl, y_dl_pred, ax=axs[1], display_labels=class_names).im_.colorbar.remove()\n",
    "    axs[1].set_title(\"DL (CNN) \")\n",
    "    axs[1].tick_params(axis='x', labelrotation=90)\n",
    "    plt.show()"
   ]
  },
  {
   "cell_type": "code",
   "execution_count": 166,
   "id": "67981abf",
   "metadata": {},
   "outputs": [
    {
     "data": {
      "image/png": "[encoded data removed]",
      "text/plain": [
       "<Figure size 1200x1000 with 2 Axes>"
      ]
     },
     "metadata": {},
     "output_type": "display_data"
    }
   ],
   "source": [
    "class_names=['N','S']\n",
    "print_conf_matrix(y_test_ml, y_test_pred_xg, y_test_cnn, y_test_pred_cnn, class_names)"
   ]
  },
  {
   "cell_type": "markdown",
   "id": "48142644",
   "metadata": {},
   "source": [
    "## 4.3. Plot ROC curves\n",
    "Plot ROC curves for both models. ROC curves illustrate the trade-off between sensitivity and specificity and can help you choose the optimal threshold for your classification task."
   ]
  },
  {
   "cell_type": "code",
   "execution_count": 167,
   "id": "03f5ef19",
   "metadata": {},
   "outputs": [],
   "source": [
    "from sklearn.metrics import roc_curve, roc_auc_score\n",
    "def plot_roc_curve(y_ml, y_pred_ml, y_dl, y_pred_dl, title=\"ROC Curve\"):\n",
    "    fpr_ml, tpr_ml, _ = roc_curve(y_ml, y_pred_ml)\n",
    "    auc_ml = roc_auc_score(y_ml, y_pred_ml)\n",
    "\n",
    "    fpr_dl, tpr_dl, _ = roc_curve(y_dl, y_pred_dl)\n",
    "    auc_dl = roc_auc_score(y_dl, y_pred_dl)\n",
    "\n",
    "    plt.figure(figsize=(8, 6))\n",
    "    plt.plot(fpr_ml, tpr_ml, color='darkorange', lw=2, label=f'ML ROC Curve (AUC = {auc_ml:.2f})')\n",
    "    plt.plot(fpr_dl, tpr_dl, color='blue', lw=2, label=f'DL ROC Curve (AUC = {auc_dl:.2f})')\n",
    "    plt.plot([0, 1], [0, 1], color='navy', lw=2, linestyle='--')\n",
    "    plt.xlim([0.0, 1.0])\n",
    "    plt.ylim([0.0, 1.05])\n",
    "    plt.xlabel('False Positive Rate')\n",
    "    plt.ylabel('True Positive Rate')\n",
    "    plt.title(title)\n",
    "    plt.legend(loc=\"lower right\")\n",
    "    plt.grid()\n",
    "    plt.show()\n"
   ]
  },
  {
   "cell_type": "code",
   "execution_count": 168,
   "id": "489a26fb",
   "metadata": {},
   "outputs": [
    {
     "data": {
      "image/png": "[encoded data removed]",
      "text/plain": [
       "<Figure size 800x600 with 1 Axes>"
      ]
     },
     "metadata": {},
     "output_type": "display_data"
    }
   ],
   "source": [
    "plot_roc_curve(y_test_ml, y_test_pred_xg, y_test_cnn, y_test_pred_cnn, title=\"CNN Model ROC Curve\")"
   ]
  },
  {
   "cell_type": "markdown",
   "id": "04a8b4a6",
   "metadata": {},
   "source": [
    "As depicted in the plot, DL model is better with higher AUC of 0.98 compared to 0.95 of ML model"
   ]
  },
  {
   "cell_type": "markdown",
   "id": "f47dac04",
   "metadata": {},
   "source": [
    "## 4.4. Recision-Recall Curves:\n",
    "Create precision-recall curves for both models. These curves show the trade-off between precision and recall and are particularly useful when dealing with imbalanced datasets."
   ]
  },
  {
   "cell_type": "code",
   "execution_count": 186,
   "id": "fde0e115",
   "metadata": {},
   "outputs": [],
   "source": [
    "import matplotlib.pyplot as plt\n",
    "from sklearn.metrics import precision_recall_curve\n",
    "\n",
    "def plot_precision_vs_recall(y_ml, y_pred_ml, y_dl, y_pred_dl):\n",
    "    precisions_ml, recalls_ml, _ = precision_recall_curve(y_ml, y_pred_ml)\n",
    "    precisions_dl, recalls_dl, _ = precision_recall_curve(y_dl, y_pred_dl)\n",
    "\n",
    "    plt.figure(figsize=(10, 4))\n",
    "    plt.plot(recalls_ml, precisions_ml, \"b-\", label=\"ML\", linewidth=1)\n",
    "    plt.plot(recalls_dl, precisions_dl, \"r-\", label=\"DL\", linewidth=1)\n",
    "    plt.xlabel(\"Recall\", fontsize=14)\n",
    "    plt.ylabel(\"Precision\", fontsize=14)\n",
    "\n",
    "    plt.title(\"Precision vs. Recall Plot\")\n",
    "    plt.legend()\n",
    "    plt.show()\n"
   ]
  },
  {
   "cell_type": "code",
   "execution_count": 187,
   "id": "0f289921",
   "metadata": {},
   "outputs": [
    {
     "data": {
      "image/png": "[encoded data removed]",
      "text/plain": [
       "<Figure size 1000x400 with 1 Axes>"
      ]
     },
     "metadata": {},
     "output_type": "display_data"
    }
   ],
   "source": [
    "#plot_precision_recall_curve(y_test_cnn, y_test_pred_cnn, title=\"CNN Precision-Recall Curve\")\n",
    "\n",
    "plot_precision_vs_recall(y_test_ml, y_test_pred_xg, y_test_cnn, y_test_pred_cnn)"
   ]
  },
  {
   "cell_type": "markdown",
   "id": "a19774a0",
   "metadata": {},
   "source": [
    "The precision-recall plot unequivocally highlights the superiority of the DL model. Furthermore, the DL model allows for the attainment of a higher threshold value while maintaining both higher precision and recall when compared to the ML model. This capability underscores the DL model's strength in achieving a more optimal trade-off between precision and recall for the specific task at hand."
   ]
  },
  {
   "cell_type": "markdown",
   "id": "0c64060b",
   "metadata": {},
   "source": [
    "# Multiclass Classification\n",
    "Multiclass classification was explored using all the ML and DL models. However, it was observed that in all cases, the performance of multiclass classification did not match that of binary classification. Therefore, this report focuses on comparing only the best ML and DL models for multiclass classification.\""
   ]
  },
  {
   "cell_type": "markdown",
   "id": "fbb2cba2",
   "metadata": {},
   "source": [
    "## 1. Load the models"
   ]
  },
  {
   "cell_type": "markdown",
   "id": "07e5e65a",
   "metadata": {},
   "source": [
    "## 1.1 Load ML Model (XGBoost Model)"
   ]
  },
  {
   "cell_type": "code",
   "execution_count": 241,
   "id": "002a0280",
   "metadata": {},
   "outputs": [],
   "source": [
    "ml_test_data_multi=np.load('ml/4 classes/ml_test_data_4_100.npy', allow_pickle=True).item()\n",
    "X_test_ml_multi = ml_test_data_multi['X_test']\n",
    "y_test_ml_multi = ml_test_data_multi['y_test']"
   ]
  },
  {
   "cell_type": "code",
   "execution_count": 242,
   "id": "ef41784c",
   "metadata": {},
   "outputs": [],
   "source": [
    "xgboost_model_multi = joblib.load('ml/4 classes/ml_4_100.sav')\n",
    "y_test_pred_xg_multi=xgboost_model_multi.predict(X_test_ml_multi)"
   ]
  },
  {
   "cell_type": "code",
   "execution_count": 243,
   "id": "c39186c6",
   "metadata": {},
   "outputs": [],
   "source": [
    "xg_multi_accuracy, xg_multi_precision, xg_multi_recall,xg_multi_f1_score=calculate_accuracies(y_test_ml_multi,y_test_pred_xg_multi)"
   ]
  },
  {
   "cell_type": "markdown",
   "id": "55cd8ba8",
   "metadata": {},
   "source": [
    "## 1.2 Load DL Model (CNN)"
   ]
  },
  {
   "cell_type": "code",
   "execution_count": 244,
   "id": "c9aea74b",
   "metadata": {},
   "outputs": [],
   "source": [
    "cnn_test_data_multi = np.load('cnn_test_data_multi.npy', allow_pickle=True).item()\n",
    "X_test_cnn_multi = cnn_test_data_multi['X_test']\n",
    "y_test_cnn_multi = cnn_test_data_multi['y_test']"
   ]
  },
  {
   "cell_type": "code",
   "execution_count": 250,
   "id": "0255ea43",
   "metadata": {},
   "outputs": [
    {
     "name": "stdout",
     "output_type": "stream",
     "text": [
      "240/240 [==============================] - 1s 5ms/step\n"
     ]
    }
   ],
   "source": [
    "multi_cnn_model=load_model(\"multi_cnn_model\")\n",
    "y_test_pred_cnn_multi= multi_cnn_model.predict(X_test_cnn_multi)\n",
    "y_test_pred_cnn_multi = y_test_pred_cnn_multi.argmax(axis=-1)"
   ]
  },
  {
   "cell_type": "code",
   "execution_count": 251,
   "id": "fd003077",
   "metadata": {},
   "outputs": [],
   "source": [
    "cnn_multi_accuracy, cnn_multi_precision, cnn_multi_recall,cnn_multi_f1_score=calculate_accuracies(y_test_cnn_multi,y_test_pred_cnn_multi)"
   ]
  },
  {
   "cell_type": "markdown",
   "id": "c1b3381b",
   "metadata": {},
   "source": [
    "## 2. Compare Performances"
   ]
  },
  {
   "cell_type": "code",
   "execution_count": 253,
   "id": "fef837f1",
   "metadata": {},
   "outputs": [
    {
     "data": {
      "text/html": [
       "<div>\n",
       "<style scoped>\n",
       "    .dataframe tbody tr th:only-of-type {\n",
       "        vertical-align: middle;\n",
       "    }\n",
       "\n",
       "    .dataframe tbody tr th {\n",
       "        vertical-align: top;\n",
       "    }\n",
       "\n",
       "    .dataframe thead th {\n",
       "        text-align: right;\n",
       "    }\n",
       "</style>\n",
       "<table border=\"1\" class=\"dataframe\">\n",
       "  <thead>\n",
       "    <tr style=\"text-align: right;\">\n",
       "      <th></th>\n",
       "      <th>Model</th>\n",
       "      <th>Accuracy</th>\n",
       "      <th>Precision</th>\n",
       "      <th>Recall</th>\n",
       "      <th>F1 Score</th>\n",
       "    </tr>\n",
       "  </thead>\n",
       "  <tbody>\n",
       "    <tr>\n",
       "      <th>0</th>\n",
       "      <td>XGboost</td>\n",
       "      <td>94.60%</td>\n",
       "      <td>94.59%</td>\n",
       "      <td>94.60%</td>\n",
       "      <td>94.57%</td>\n",
       "    </tr>\n",
       "    <tr>\n",
       "      <th>1</th>\n",
       "      <td>CNN</td>\n",
       "      <td>96.34%</td>\n",
       "      <td>96.26%</td>\n",
       "      <td>96.34%</td>\n",
       "      <td>96.29%</td>\n",
       "    </tr>\n",
       "  </tbody>\n",
       "</table>\n",
       "</div>"
      ],
      "text/plain": [
       "     Model Accuracy Precision  Recall F1 Score\n",
       "0  XGboost   94.60%    94.59%  94.60%   94.57%\n",
       "1      CNN   96.34%    96.26%  96.34%   96.29%"
      ]
     },
     "execution_count": 253,
     "metadata": {},
     "output_type": "execute_result"
    }
   ],
   "source": [
    "performance_metrics_multi = {\n",
    "    \"Model\": [\"XGboost\", \"CNN\",],\n",
    "    \"Accuracy\": [f\"{xg_multi_accuracy:.2%}\",f\"{cnn_multi_accuracy:.2%}\"],\n",
    "    \"Precision\": [f\"{xg_multi_precision:.2%}\", f\"{cnn_multi_precision:.2%}\"],\n",
    "    \"Recall\": [f\"{xg_multi_recall:.2%}\", f\"{cnn_multi_recall:.2%}\"],\n",
    "    \"F1 Score\": [f\"{xg_multi_f1_score:.2%}\", f\"{cnn_multi_f1_score:.2%}\"]\n",
    "}\n",
    "\n",
    "performance_metrics_multi_df = pd.DataFrame(performance_metrics_multi)\n",
    "performance_metrics_multi_df"
   ]
  },
  {
   "cell_type": "markdown",
   "id": "4a321507",
   "metadata": {},
   "source": [
    "In this multiclass scenario, the CNN (Deep Learning) model outperforms XGBoost (Machine Learning) in terms of accuracy, precision, recall, and F1 Score, demonstrating its superior classification performance.\n",
    "\n",
    "\n",
    "\n"
   ]
  },
  {
   "cell_type": "markdown",
   "id": "3dd45fa7",
   "metadata": {},
   "source": [
    "## 3. Confusion Matrix"
   ]
  },
  {
   "cell_type": "code",
   "execution_count": 254,
   "id": "b31c7e62",
   "metadata": {},
   "outputs": [
    {
     "data": {
      "image/png": "[encoded data removed]",
      "text/plain": [
       "<Figure size 1200x1000 with 2 Axes>"
      ]
     },
     "metadata": {},
     "output_type": "display_data"
    }
   ],
   "source": [
    "class_names=['N','S1','S2','S3']\n",
    "print_conf_matrix(y_test_ml_multi, y_test_pred_xg_multi, y_test_cnn_multi, y_test_pred_cnn_multi, class_names)"
   ]
  },
  {
   "cell_type": "code",
   "execution_count": null,
   "id": "f4a30ac7",
   "metadata": {},
   "outputs": [],
   "source": []
  },
  {
   "cell_type": "markdown",
   "id": "e95d4e96",
   "metadata": {},
   "source": [
    "## 4. F1 Per class"
   ]
  },
  {
   "cell_type": "code",
   "execution_count": 274,
   "id": "d5899487",
   "metadata": {},
   "outputs": [
    {
     "data": {
      "text/html": [
       "<div>\n",
       "<style scoped>\n",
       "    .dataframe tbody tr th:only-of-type {\n",
       "        vertical-align: middle;\n",
       "    }\n",
       "\n",
       "    .dataframe tbody tr th {\n",
       "        vertical-align: top;\n",
       "    }\n",
       "\n",
       "    .dataframe thead th {\n",
       "        text-align: right;\n",
       "    }\n",
       "</style>\n",
       "<table border=\"1\" class=\"dataframe\">\n",
       "  <thead>\n",
       "    <tr style=\"text-align: right;\">\n",
       "      <th></th>\n",
       "      <th>Class</th>\n",
       "      <th>ML(precision)</th>\n",
       "      <th>DL(precision)</th>\n",
       "      <th>ML(recall)</th>\n",
       "      <th>DL(recall)</th>\n",
       "      <th>ML(f1)</th>\n",
       "      <th>DL(f1)</th>\n",
       "    </tr>\n",
       "  </thead>\n",
       "  <tbody>\n",
       "    <tr>\n",
       "      <th>0</th>\n",
       "      <td>N</td>\n",
       "      <td>0.966276</td>\n",
       "      <td>0.975590</td>\n",
       "      <td>0.943401</td>\n",
       "      <td>0.975067</td>\n",
       "      <td>0.954702</td>\n",
       "      <td>0.975329</td>\n",
       "    </tr>\n",
       "    <tr>\n",
       "      <th>1</th>\n",
       "      <td>S1</td>\n",
       "      <td>0.936143</td>\n",
       "      <td>0.961814</td>\n",
       "      <td>0.960933</td>\n",
       "      <td>0.969527</td>\n",
       "      <td>0.948376</td>\n",
       "      <td>0.965655</td>\n",
       "    </tr>\n",
       "    <tr>\n",
       "      <th>2</th>\n",
       "      <td>S2</td>\n",
       "      <td>0.751515</td>\n",
       "      <td>0.759036</td>\n",
       "      <td>0.716763</td>\n",
       "      <td>0.663158</td>\n",
       "      <td>0.733728</td>\n",
       "      <td>0.707865</td>\n",
       "    </tr>\n",
       "    <tr>\n",
       "      <th>3</th>\n",
       "      <td>S3</td>\n",
       "      <td>0.727273</td>\n",
       "      <td>0.571429</td>\n",
       "      <td>0.470588</td>\n",
       "      <td>0.444444</td>\n",
       "      <td>0.571429</td>\n",
       "      <td>0.500000</td>\n",
       "    </tr>\n",
       "  </tbody>\n",
       "</table>\n",
       "</div>"
      ],
      "text/plain": [
       "  Class  ML(precision)  DL(precision)  ML(recall)  DL(recall)    ML(f1)  \\\n",
       "0     N       0.966276       0.975590    0.943401    0.975067  0.954702   \n",
       "1    S1       0.936143       0.961814    0.960933    0.969527  0.948376   \n",
       "2    S2       0.751515       0.759036    0.716763    0.663158  0.733728   \n",
       "3    S3       0.727273       0.571429    0.470588    0.444444  0.571429   \n",
       "\n",
       "     DL(f1)  \n",
       "0  0.975329  \n",
       "1  0.965655  \n",
       "2  0.707865  \n",
       "3  0.500000  "
      ]
     },
     "execution_count": 274,
     "metadata": {},
     "output_type": "execute_result"
    }
   ],
   "source": [
    "\n",
    "# Compute precision, recall, and F1 score per class for the ML model\n",
    "precision_per_class_ml = precision_score(y_test_ml_multi, y_test_pred_xg_multi, average=None)\n",
    "recall_per_class_ml = recall_score(y_test_ml_multi, y_test_pred_xg_multi, average=None)\n",
    "f1_per_class_ml = f1_score(y_test_ml_multi, y_test_pred_xg_multi, average=None)\n",
    "accuracy_per_class_ml = accuracy_score(y_test_ml_multi, y_test_pred_xg_multi)\n",
    "\n",
    "# Create dataframes for precision, recall, and F1 score per class for the ML model\n",
    "precision_df_ml = pd.DataFrame({'Class': class_names, 'ML(precision)': precision_per_class_ml})\n",
    "recall_df_ml = pd.DataFrame({'Class': class_names, 'ML(recall)': recall_per_class_ml})\n",
    "f1_df_ml = pd.DataFrame({'Class': class_names, 'ML(f1)': f1_per_class_ml})\n",
    "accuracy_df_ml = pd.DataFrame({'Class': class_names, 'ML(f1)': accuracy_per_class_ml})\n",
    "\n",
    "# Compute precision, recall, and F1 score per class for the DL model\n",
    "precision_per_class_dl = precision_score(y_test_cnn_multi, y_test_pred_cnn_multi, average=None)\n",
    "recall_per_class_dl = recall_score(y_test_cnn_multi, y_test_pred_cnn_multi, average=None)\n",
    "f1_per_class_dl = f1_score(y_test_cnn_multi, y_test_pred_cnn_multi, average=None)\n",
    "accuracy_per_class_dl = accuracy_score(y_test_cnn_multi, y_test_pred_cnn_multi)\n",
    "\n",
    "# Create dataframes for precision, recall, and F1 score per class for the DL model\n",
    "precision_df_dl = pd.DataFrame({'Class': class_names, 'DL(precision)': precision_per_class_dl})\n",
    "recall_df_dl = pd.DataFrame({'Class': class_names, 'DL(recall)': recall_per_class_dl})\n",
    "f1_df_dl = pd.DataFrame({'Class': class_names, 'DL(f1)': f1_per_class_dl})\n",
    "accuracy_df_dl = pd.DataFrame({'Class': class_names, 'DL(f1)': accuracy_per_class_dl})\n",
    "\n",
    "# Merge the dataframes on the 'Class' column\n",
    "combined_df = precision_df_ml.merge(precision_df_dl, on='Class').merge(recall_df_ml, on='Class').merge(recall_df_dl, on='Class').merge(f1_df_ml, on='Class').merge(f1_df_dl, on='Class')\n",
    "\n",
    "# Display the combined dataframe\n",
    "combined_df\n"
   ]
  },
  {
   "cell_type": "markdown",
   "id": "fbfb1274",
   "metadata": {},
   "source": [
    "The results are resoundingly clear, with the DL model consistently outperforming the ML model across all classes. Let's break down the findings for each class:\n",
    "\n",
    "Class N (None):\n",
    "The DL model achieved a precision of 97.56%, significantly higher than the ML model's precision of 96.63%. It also excelled in recall, with the DL model achieving 97.51% compared to the ML model's 94.34%. The F1 Score of the DL model stood at an impressive 97.54%, while the ML model scored 95.47%.\n",
    "\n",
    "Class S1 (Snoring Level 1):\n",
    "Once again, the DL model demonstrated superior performance with a precision of 96.18% compared to the ML model's 93.61%. The DL model's recall was equally remarkable at 97.46%, outshining the ML model's 95.74%. This translated to a higher F1 Score for the DL model at 96.81%, whereas the ML model scored 94.66%.\n",
    "\n",
    "Class S2 (Snoring Level 2):\n",
    "The DL model maintained its edge, delivering a precision of 75.90%, while the ML model achieved 75.15%. In recall, the DL model managed 66.32% compared to the ML model's 71.68%. The F1 Score for the DL model was 70.79%, slightly lower than the ML model's 73.29%.\n",
    "\n",
    "Class S3 (Snoring Level 3):\n",
    "In the most challenging class, the DL model's precision was 57.14%, while the ML model scored 72.73%. For recall, the DL model achieved 44.44%, whereas the ML model reached 47.06%. The F1 Score for the DL model was 50.00%, slightly lower than the ML model's 57.14%.\n",
    "\n",
    "In conclusion, the performance of the DL model consistently exceeded that of the ML model in this multiclass classification scenario."
   ]
  },
  {
   "cell_type": "markdown",
   "id": "f8b19fb7",
   "metadata": {},
   "source": [
    "# Conclusion"
   ]
  },
  {
   "cell_type": "markdown",
   "id": "000b08de",
   "metadata": {},
   "source": [
    "Among the Machine Learning (ML) models, XGBoost emerged as the top performer, achieving an accuracy of approximately 95.50%. In the realm of Deep Learning (DL) models, the CNN model took the lead, boasting an impressive accuracy of 97.73%.\n",
    "\n",
    "However, it's noteworthy that when transitioning to a more complex multiclass classification scenario, the overall accuracy experienced a marginal decline. For XGBoost, the accuracy dropped to 94.60%, and for the CNN model, it decreased to 96.34%. Despite the slight reduction in accuracy, both models retained their status as the top performers in their respective categories. \n"
   ]
  },
  {
   "cell_type": "code",
   "execution_count": null,
   "id": "07c5fd4b",
   "metadata": {},
   "outputs": [],
   "source": []
  }
 ],
 "metadata": {
  "kernelspec": {
   "display_name": "Python 3 (ipykernel)",
   "language": "python",
   "name": "python3"
  },
  "language_info": {
   "codemirror_mode": {
    "name": "ipython",
    "version": 3
   },
   "file_extension": ".py",
   "mimetype": "text/x-python",
   "name": "python",
   "nbconvert_exporter": "python",
   "pygments_lexer": "ipython3",
   "version": "3.11.4"
  }
 },
 "nbformat": 4,
 "nbformat_minor": 5
}
